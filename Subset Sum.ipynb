{
 "cells": [
  {
   "cell_type": "markdown",
   "metadata": {},
   "source": [
    "# Subset Sum"
   ]
  },
  {
   "cell_type": "code",
   "execution_count": 235,
   "metadata": {},
   "outputs": [],
   "source": [
    "# brute version\n",
    "def subsetSumBrute(arr, total):\n",
    "    N = len(arr)\n",
    "    if N <= 1:\n",
    "        return False\n",
    "\n",
    "    W = total\n",
    "    H = len(arr)\n",
    "\n",
    "    # todo\n",
    "    \n",
    "    return [False, []]\n"
   ]
  },
  {
   "cell_type": "code",
   "execution_count": 226,
   "metadata": {},
   "outputs": [
    {
     "data": {
      "text/plain": [
       "[False, []]"
      ]
     },
     "execution_count": 226,
     "metadata": {},
     "output_type": "execute_result"
    }
   ],
   "source": [
    "subsetSumBrute([2,3,7,8,10],11)"
   ]
  },
  {
   "cell_type": "code",
   "execution_count": 227,
   "metadata": {},
   "outputs": [
    {
     "data": {
      "text/plain": [
       "[False, []]"
      ]
     },
     "execution_count": 227,
     "metadata": {},
     "output_type": "execute_result"
    }
   ],
   "source": [
    "subsetSumBrute([1,2,3],5)"
   ]
  },
  {
   "cell_type": "code",
   "execution_count": 228,
   "metadata": {},
   "outputs": [
    {
     "data": {
      "text/plain": [
       "[False, []]"
      ]
     },
     "execution_count": 228,
     "metadata": {},
     "output_type": "execute_result"
    }
   ],
   "source": [
    "subsetSumBrute([1,2,3],7)"
   ]
  },
  {
   "cell_type": "code",
   "execution_count": 229,
   "metadata": {},
   "outputs": [
    {
     "data": {
      "text/plain": [
       "False"
      ]
     },
     "execution_count": 229,
     "metadata": {},
     "output_type": "execute_result"
    }
   ],
   "source": [
    "subsetSumBrute([],0)"
   ]
  },
  {
   "cell_type": "code",
   "execution_count": 242,
   "metadata": {},
   "outputs": [],
   "source": [
    "# Dynamic Programming version\n",
    "def subsetSum(arr, total):\n",
    "    N = len(arr)\n",
    "    if N <= 1:\n",
    "        return [False, \"\"]\n",
    "\n",
    "    # setup DP table [y][x]\n",
    "    W = total\n",
    "    H = len(arr)\n",
    "    dp = [ [False]*(W+1) for i in range(H)]\n",
    "\n",
    "    # setup empty set column - always True\n",
    "    for i in range(0, H):\n",
    "        dp[i][0]= True\n",
    "\n",
    "    for x in range(1,W+1):\n",
    "        if x == arr[0]:\n",
    "            dp[0][x] = True\n",
    "        else:\n",
    "            dp[0][x] = False\n",
    "    #print('\\n'.join(['%i: %s' % (n, dp[n]) for n in range(len(dp))]))\n",
    "\n",
    "    for y in range(1,H):\n",
    "        for x in range(1,W+1):\n",
    "            if x >= arr[y] :\n",
    "                dp[y][x] = dp[y-1][x-arr[y]] or dp[y-1][x]\n",
    "            else:\n",
    "                dp[y][x] = dp[y-1][x] #False if y<1 else dp[y-1][x]\n",
    "            #print(\"y:\"+str(y)+\" x:\"+str(x)+\" arr[y]:\"+str(arr[y])+\" dp[y][x]:\"+str(dp[y][x]))\n",
    "    #print('\\n'.join(['%i: %s' % (n, dp[n]) for n in range(len(dp))]))\n",
    "    \n",
    "    subset = getSubsetFromDP(dp, arr)\n",
    "    return [dp[N-1][total],subset]\n"
   ]
  },
  {
   "cell_type": "code",
   "execution_count": 231,
   "metadata": {},
   "outputs": [],
   "source": [
    "def getSubsetFromDP(dp, arr):\n",
    "    #LR = [len(dp),len(dp[0])]\n",
    "    y = len(dp)-1\n",
    "    x = len(dp[0])-1\n",
    "    #print(str(y)+\",\"+str(y))\n",
    "    sequence = []\n",
    "    condition = True\n",
    "    while condition:\n",
    "        if dp[y-1][x] == True:\n",
    "            y-=1\n",
    "            #print(\"1. ==\"+str(y)+\",\"+str(x))\n",
    "        else:\n",
    "            x-=arr[y]\n",
    "            sequence.append(arr[y])\n",
    "            #print(\"2. ==\"+str(y)+\",\"+str(x))\n",
    "        condition = y>0 and x>0 \n",
    "\n",
    "    return sequence"
   ]
  },
  {
   "cell_type": "code",
   "execution_count": 238,
   "metadata": {},
   "outputs": [
    {
     "data": {
      "text/plain": [
       "[True, [8, 3]]"
      ]
     },
     "execution_count": 238,
     "metadata": {},
     "output_type": "execute_result"
    }
   ],
   "source": [
    "subsetSum([2,3,7,8,10],11)"
   ]
  },
  {
   "cell_type": "code",
   "execution_count": 239,
   "metadata": {},
   "outputs": [
    {
     "data": {
      "text/plain": [
       "[True, [3, 2]]"
      ]
     },
     "execution_count": 239,
     "metadata": {},
     "output_type": "execute_result"
    }
   ],
   "source": [
    "subsetSum([1,2,3],5)"
   ]
  },
  {
   "cell_type": "code",
   "execution_count": 241,
   "metadata": {},
   "outputs": [
    {
     "data": {
      "text/plain": [
       "[False, [3, 3]]"
      ]
     },
     "execution_count": 241,
     "metadata": {},
     "output_type": "execute_result"
    }
   ],
   "source": [
    "subsetSum([1,2,3],7)"
   ]
  },
  {
   "cell_type": "code",
   "execution_count": 243,
   "metadata": {},
   "outputs": [
    {
     "data": {
      "text/plain": [
       "[False, '']"
      ]
     },
     "execution_count": 243,
     "metadata": {},
     "output_type": "execute_result"
    }
   ],
   "source": [
    "subsetSum([],0)"
   ]
  }
 ],
 "metadata": {
  "kernelspec": {
   "display_name": "Python 3",
   "language": "python",
   "name": "python3"
  },
  "language_info": {
   "codemirror_mode": {
    "name": "ipython",
    "version": 3
   },
   "file_extension": ".py",
   "mimetype": "text/x-python",
   "name": "python",
   "nbconvert_exporter": "python",
   "pygments_lexer": "ipython3",
   "version": "3.8.5"
  }
 },
 "nbformat": 4,
 "nbformat_minor": 4
}
