{
 "cells": [
  {
   "cell_type": "markdown",
   "metadata": {},
   "source": [
    "# Longest Common Substring"
   ]
  },
  {
   "cell_type": "code",
   "execution_count": 61,
   "metadata": {},
   "outputs": [],
   "source": [
    "# brute version\n",
    "def lcsBrute(arr1, arr2):\n",
    "    N1 = len(arr1)\n",
    "    N2 = len(arr2)\n",
    "    if N1 <= 1 or N2 <= 1:\n",
    "        return \"\"\n",
    "\n",
    "    sub = \"\"\n",
    "\n",
    "    # todo\n",
    "   \n",
    "    return [\"\"]\n"
   ]
  },
  {
   "cell_type": "code",
   "execution_count": 62,
   "metadata": {},
   "outputs": [
    {
     "data": {
      "text/plain": [
       "['']"
      ]
     },
     "execution_count": 62,
     "metadata": {},
     "output_type": "execute_result"
    }
   ],
   "source": [
    "lcsBrute('abcdgh','aedfhr')"
   ]
  },
  {
   "cell_type": "code",
   "execution_count": 63,
   "metadata": {},
   "outputs": [
    {
     "data": {
      "text/plain": [
       "['']"
      ]
     },
     "execution_count": 63,
     "metadata": {},
     "output_type": "execute_result"
    }
   ],
   "source": [
    "lcsBrute('aggtab','gxtxayb')"
   ]
  },
  {
   "cell_type": "code",
   "execution_count": 64,
   "metadata": {},
   "outputs": [
    {
     "data": {
      "text/plain": [
       "''"
      ]
     },
     "execution_count": 64,
     "metadata": {},
     "output_type": "execute_result"
    }
   ],
   "source": [
    "lcsBrute('','')"
   ]
  },
  {
   "cell_type": "code",
   "execution_count": 66,
   "metadata": {},
   "outputs": [],
   "source": [
    "# Dynamic Programming version\n",
    "def lcs(arr1, arr2):\n",
    "    N1 = len(arr1)\n",
    "    N2 = len(arr2)\n",
    "    if N1 <= 1 or N2 <= 1:\n",
    "        return [0,\"\"]\n",
    "\n",
    "    # define DP table [y][x]\n",
    "    W = len(arr2)\n",
    "    H = len(arr1)\n",
    "    dp = [ [0]*(W+1) for i in range(H+1)]\n",
    "\n",
    "    # populate dp table\n",
    "    for i in range(0, H):\n",
    "        dp[i][0] = 0\n",
    "    for j in range(0, W):\n",
    "        dp[0][j] = 0\n",
    "\n",
    "    # if y and x array headers match in grid, element = 1+diag up left value\n",
    "    for i in range(1, H):\n",
    "        for j in range(1, W):\n",
    "            if arr1[i-1] == arr2[j-1]:\n",
    "                dp[i][j] = dp[i-1][j-1] + 1 # diag up left + 1\n",
    "            else:\n",
    "                dp[i][j] = 0\n",
    "    \n",
    "    # get sequence from dp table\n",
    "    index = 0\n",
    "    ix = H-1\n",
    "    iy = W-1\n",
    "\n",
    "    for i in range(1, H):\n",
    "        for j in range(1, W):\n",
    "            if dp[i][j] >= index:\n",
    "                index = dp[i][j]\n",
    "                ix = i\n",
    "                iy = j\n",
    "    returnIndex = index\n",
    "    sequence = [\"\"]*(index+1)\n",
    "              \n",
    "    i = ix\n",
    "    j = iy\n",
    "    while i > 0 and j > 0 and index > 0:\n",
    "        if arr1[i-1] == arr2[j-1]:\n",
    "            sequence[index-1] = arr1[i-1]\n",
    "            i -= 1\n",
    "            j -= 1\n",
    "            index -= 1\n",
    "        elif dp[i-1][j] > dp[i][j-1]: # if arr(y-1) > arr(x-1), go up\n",
    "            i -= 1\n",
    "        else: # otherwise go left\n",
    "            j -= 1\n",
    "\n",
    "    #print('\\n'.join(['%i: %s' % (n, dp[n]) for n in range(len(dp))]))\n",
    "    \n",
    "    return [returnIndex, \"\".join(sequence)]"
   ]
  },
  {
   "cell_type": "code",
   "execution_count": 67,
   "metadata": {},
   "outputs": [
    {
     "data": {
      "text/plain": [
       "[3, 'bcd']"
      ]
     },
     "execution_count": 67,
     "metadata": {},
     "output_type": "execute_result"
    }
   ],
   "source": [
    "lcs('abcdaf','zbcdf')"
   ]
  },
  {
   "cell_type": "code",
   "execution_count": 57,
   "metadata": {},
   "outputs": [
    {
     "data": {
      "text/plain": [
       "[1, 'd']"
      ]
     },
     "execution_count": 57,
     "metadata": {},
     "output_type": "execute_result"
    }
   ],
   "source": [
    "lcs('abcdgh','aedfhr')"
   ]
  },
  {
   "cell_type": "code",
   "execution_count": 58,
   "metadata": {},
   "outputs": [
    {
     "data": {
      "text/plain": [
       "[1, 'a']"
      ]
     },
     "execution_count": 58,
     "metadata": {},
     "output_type": "execute_result"
    }
   ],
   "source": [
    "lcs('aggtab','gxtxayb')"
   ]
  },
  {
   "cell_type": "code",
   "execution_count": 59,
   "metadata": {},
   "outputs": [
    {
     "data": {
      "text/plain": [
       "[0, '']"
      ]
     },
     "execution_count": 59,
     "metadata": {},
     "output_type": "execute_result"
    }
   ],
   "source": [
    "lcs('','')"
   ]
  }
 ],
 "metadata": {
  "kernelspec": {
   "display_name": "Python 3",
   "language": "python",
   "name": "python3"
  },
  "language_info": {
   "codemirror_mode": {
    "name": "ipython",
    "version": 3
   },
   "file_extension": ".py",
   "mimetype": "text/x-python",
   "name": "python",
   "nbconvert_exporter": "python",
   "pygments_lexer": "ipython3",
   "version": "3.8.3"
  }
 },
 "nbformat": 4,
 "nbformat_minor": 4
}
