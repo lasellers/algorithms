{
 "cells": [
  {
   "cell_type": "markdown",
   "metadata": {},
   "source": [
    "# Boggle Solver"
   ]
  },
  {
   "cell_type": "code",
   "execution_count": 8,
   "metadata": {},
   "outputs": [],
   "source": [
    "def board():\n",
    "    return [\n",
    "        'A','B','C','D','E',\n",
    "        'F','G','H','I','J',\n",
    "        'K','L','M','N','O',\n",
    "        'P','Q','R','S','T',\n",
    "        'U','V','W','X','Y',\n",
    "    ]"
   ]
  },
  {
   "cell_type": "code",
   "execution_count": 12,
   "metadata": {},
   "outputs": [],
   "source": [
    "# todo\n",
    "# Dynamic Programming version\n",
    "def boggle(arr, word):\n",
    "    if len(word)<3:\n",
    "        return False\n",
    "    \n",
    "    H = len(arr)\n",
    "    W = len(arr[0])\n",
    "\n",
    "    if H == 0 or W == 0:\n",
    "        return 0\n",
    "    \n",
    "    # setup DP table \n",
    "    dp = [ [0]*(W+1) for i in range(H+1)]\n",
    "    usedLetters = [ [False]*(W+1) for i in range(H+1)]\n",
    "\n",
    "    maxSum = 0\n",
    "   \n",
    "    for row in range(0, H):\n",
    "        for col in range(0, W):\n",
    "            if arr[row][col] == 1:\n",
    "                dp[row][col] = 1\n",
    "    print('\\n'.join(['%i: %s' % (n, dp[n]) for n in range(len(dp))]))\n",
    "\n",
    "    for row in range(0, H):\n",
    "        for col in range(0, W):\n",
    "            if arr[row][col] == 1:\n",
    "                dp[row][col] = 1\n",
    "            if row > 0 and col > 0:\n",
    "                dp[row][col] += min(dp[row-1][col],dp[row][col-1],dp[row-1][col-1])\n",
    "            sum = kadane(dp[row])\n",
    "            maxSum = max(maxSum, dp[row][col])\n",
    "    print('\\n'.join(['%i: %s' % (n, dp[n]) for n in range(len(dp))]))\n",
    "\n",
    "    return maxSum\n"
   ]
  },
  {
   "cell_type": "code",
   "execution_count": 10,
   "metadata": {},
   "outputs": [
    {
     "ename": "TypeError",
     "evalue": "boggle() takes 1 positional argument but 2 were given",
     "output_type": "error",
     "traceback": [
      "\u001b[0;31m---------------------------------------------------------------------------\u001b[0m",
      "\u001b[0;31mTypeError\u001b[0m                                 Traceback (most recent call last)",
      "\u001b[0;32m<ipython-input-10-d1668f02e030>\u001b[0m in \u001b[0;36m<module>\u001b[0;34m\u001b[0m\n\u001b[0;32m----> 1\u001b[0;31m \u001b[0mboggle\u001b[0m\u001b[0;34m(\u001b[0m\u001b[0mboard\u001b[0m\u001b[0;34m(\u001b[0m\u001b[0;34m)\u001b[0m\u001b[0;34m,\u001b[0m \u001b[0;34m\"minty\"\u001b[0m\u001b[0;34m)\u001b[0m\u001b[0;34m\u001b[0m\u001b[0;34m\u001b[0m\u001b[0m\n\u001b[0m",
      "\u001b[0;31mTypeError\u001b[0m: boggle() takes 1 positional argument but 2 were given"
     ]
    }
   ],
   "source": [
    "boggle(board(), \"minty\")"
   ]
  },
  {
   "cell_type": "code",
   "execution_count": 11,
   "metadata": {},
   "outputs": [
    {
     "ename": "TypeError",
     "evalue": "boggle() takes 1 positional argument but 2 were given",
     "output_type": "error",
     "traceback": [
      "\u001b[0;31m---------------------------------------------------------------------------\u001b[0m",
      "\u001b[0;31mTypeError\u001b[0m                                 Traceback (most recent call last)",
      "\u001b[0;32m<ipython-input-11-3dbc16ccf141>\u001b[0m in \u001b[0;36m<module>\u001b[0;34m\u001b[0m\n\u001b[0;32m----> 1\u001b[0;31m \u001b[0mboggle\u001b[0m\u001b[0;34m(\u001b[0m\u001b[0mboard\u001b[0m\u001b[0;34m(\u001b[0m\u001b[0;34m)\u001b[0m\u001b[0;34m,\u001b[0m \u001b[0;34m\"bark\"\u001b[0m\u001b[0;34m)\u001b[0m\u001b[0;34m\u001b[0m\u001b[0;34m\u001b[0m\u001b[0m\n\u001b[0m",
      "\u001b[0;31mTypeError\u001b[0m: boggle() takes 1 positional argument but 2 were given"
     ]
    }
   ],
   "source": [
    "boggle(board(), \"bark\")"
   ]
  }
 ],
 "metadata": {
  "kernelspec": {
   "display_name": "Python 3",
   "language": "python",
   "name": "python3"
  },
  "language_info": {
   "codemirror_mode": {
    "name": "ipython",
    "version": 3
   },
   "file_extension": ".py",
   "mimetype": "text/x-python",
   "name": "python",
   "nbconvert_exporter": "python",
   "pygments_lexer": "ipython3",
   "version": "3.8.3"
  }
 },
 "nbformat": 4,
 "nbformat_minor": 4
}
