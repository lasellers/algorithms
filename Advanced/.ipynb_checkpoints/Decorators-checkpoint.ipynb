{
 "cells": [
  {
   "cell_type": "code",
   "execution_count": 1,
   "metadata": {},
   "outputs": [],
   "source": [
    "def func(string):\n",
    "    def wrapper():\n",
    "        print(\"Started\")\n",
    "        print(string)\n",
    "        print(\"Ended\")\n",
    "\n",
    "        return wrapper()\n"
   ]
  },
  {
   "cell_type": "code",
   "execution_count": 3,
   "metadata": {},
   "outputs": [
    {
     "name": "stdout",
     "output_type": "stream",
     "text": [
      "Started\n",
      "Mary\n",
      "Ended\n"
     ]
    }
   ],
   "source": [
    "func(\"Mary\")"
   ]
  },
  {
   "cell_type": "code",
   "execution_count": 4,
   "metadata": {},
   "outputs": [],
   "source": [
    "def func(f):\n",
    "    def wrapper():\n",
    "        print(\"Started\")\n",
    "        f()\n",
    "        print(\"Ended\")\n",
    "        \n",
    "    return wrapper\n",
    "\n",
    "def func2():\n",
    "    print(\"This is func2\")\n",
    "    \n",
    "def func3():\n",
    "    print(\"This is func3\")"
   ]
  },
  {
   "cell_type": "code",
   "execution_count": 5,
   "metadata": {},
   "outputs": [
    {
     "name": "stdout",
     "output_type": "stream",
     "text": [
      "Started\n",
      "This is func2\n",
      "Ended\n"
     ]
    }
   ],
   "source": [
    "x = func(func2)\n",
    "x()\n"
   ]
  },
  {
   "cell_type": "code",
   "execution_count": 6,
   "metadata": {},
   "outputs": [
    {
     "name": "stdout",
     "output_type": "stream",
     "text": [
      "Started\n",
      "This is func3\n",
      "Ended\n"
     ]
    }
   ],
   "source": [
    "x = func(func3)\n",
    "x()\n"
   ]
  },
  {
   "cell_type": "code",
   "execution_count": 8,
   "metadata": {},
   "outputs": [],
   "source": [
    "# x = func(func)\n",
    "# x()\n"
   ]
  },
  {
   "cell_type": "code",
   "execution_count": 21,
   "metadata": {},
   "outputs": [],
   "source": [
    "# check time of a function by custom decorator\n",
    "import time\n",
    "\n",
    "def timer(func):\n",
    "    def wrapper(*args, **kwargs):\n",
    "        start = time.time()\n",
    "        rv = func()\n",
    "        total = time.time() - start\n",
    "        print(\"Time:\", total)\n",
    "        return rv\n",
    "    \n",
    "    return wrapper\n",
    "   "
   ]
  },
  {
   "cell_type": "code",
   "execution_count": 22,
   "metadata": {},
   "outputs": [
    {
     "name": "stdout",
     "output_type": "stream",
     "text": [
      "Time: 2.3126602172851562e-05\n"
     ]
    }
   ],
   "source": [
    "@timer\n",
    "def test():\n",
    "    for _ in range(1000):\n",
    "        pass\n",
    "    \n",
    "test()"
   ]
  },
  {
   "cell_type": "code",
   "execution_count": 23,
   "metadata": {},
   "outputs": [],
   "source": [
    "@timer \n",
    "def test2():\n",
    "    time.sleep(2)"
   ]
  },
  {
   "cell_type": "code",
   "execution_count": 24,
   "metadata": {},
   "outputs": [
    {
     "name": "stdout",
     "output_type": "stream",
     "text": [
      "Time: 2.0026519298553467\n"
     ]
    }
   ],
   "source": [
    "test2()"
   ]
  },
  {
   "cell_type": "code",
   "execution_count": null,
   "metadata": {},
   "outputs": [],
   "source": []
  }
 ],
 "metadata": {
  "kernelspec": {
   "display_name": "Python 3",
   "language": "python",
   "name": "python3"
  },
  "language_info": {
   "codemirror_mode": {
    "name": "ipython",
    "version": 3
   },
   "file_extension": ".py",
   "mimetype": "text/x-python",
   "name": "python",
   "nbconvert_exporter": "python",
   "pygments_lexer": "ipython3",
   "version": "3.8.3"
  }
 },
 "nbformat": 4,
 "nbformat_minor": 4
}
