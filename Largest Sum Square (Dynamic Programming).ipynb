{
 "cells": [
  {
   "cell_type": "markdown",
   "metadata": {},
   "source": [
    "# Largest Maximum Square"
   ]
  },
  {
   "cell_type": "markdown",
   "metadata": {},
   "source": [
    "* Largest Maximum Square\n",
    "* Largest Sum Square\n",
    "* Largest Maximal Square"
   ]
  },
  {
   "cell_type": "code",
   "execution_count": 1,
   "metadata": {},
   "outputs": [],
   "source": [
    "# brute version\n",
    "def lmsBrute(arr):\n",
    "    H = len(arr)\n",
    "    W = len(arr[0])\n",
    "\n",
    "    if H == 0 or W == 0:\n",
    "        return 0\n",
    "    \n",
    "    # setup DP table \n",
    "\n",
    "    answer = 0\n",
    "\n",
    "    # todo\n",
    "    \n",
    "    return answer\n"
   ]
  },
  {
   "cell_type": "code",
   "execution_count": 42,
   "metadata": {},
   "outputs": [
    {
     "data": {
      "text/plain": [
       "0"
      ]
     },
     "execution_count": 42,
     "metadata": {},
     "output_type": "execute_result"
    }
   ],
   "source": [
    "lmsBrute([\n",
    "    [1,0,1,0,0,0,0],\n",
    "    [1,0,1,1,1,1,1],\n",
    "    [1,1,1,1,1,1,1],\n",
    "    [1,0,0,1,0,0,0]\n",
    "])"
   ]
  },
  {
   "cell_type": "code",
   "execution_count": 2,
   "metadata": {},
   "outputs": [],
   "source": [
    "# Dynamic programming\n",
    "def kadane(numbers):\n",
    "    best_sum = float('-inf')\n",
    "    best_start = best_end = 0\n",
    "    current_sum = 0\n",
    "    for current_end, x in enumerate(numbers):\n",
    "        if current_sum <= 0:\n",
    "            current_start = current_end\n",
    "            current_sum = x\n",
    "        else:\n",
    "            current_sum += x\n",
    "\n",
    "        if current_sum > best_sum:\n",
    "            best_sum = current_sum\n",
    "            best_start = current_start\n",
    "            best_end = current_end + 1\n",
    "\n",
    "    return best_sum, best_start, best_end"
   ]
  },
  {
   "cell_type": "code",
   "execution_count": 4,
   "metadata": {},
   "outputs": [],
   "source": [
    "# Dynamic Programming version\n",
    "def lms(arr):\n",
    "    H = len(arr)\n",
    "    W = len(arr[0])\n",
    "\n",
    "    if H == 0 or W == 0:\n",
    "        return 0\n",
    "    \n",
    "    # setup DP table \n",
    "    dp = [ [0]*(W+1) for i in range(H+1)]\n",
    "\n",
    "    maxSum = 0\n",
    "   \n",
    "    for row in range(0, H):\n",
    "        for col in range(0, W):\n",
    "            if arr[row][col] == 1:\n",
    "                dp[row][col] = 1\n",
    "    print('\\n'.join(['%i: %s' % (n, dp[n]) for n in range(len(dp))]))\n",
    "\n",
    "    for row in range(0, H):\n",
    "        for col in range(0, W):\n",
    "            if arr[row][col] == 1:\n",
    "                dp[row][col] = 1\n",
    "            if row > 0 and col > 0:\n",
    "                dp[row][col] += min(dp[row-1][col],dp[row][col-1],dp[row-1][col-1])\n",
    "            sum = kadane(dp[row])\n",
    "            maxSum = max(maxSum, dp[row][col])\n",
    "    print('\\n'.join(['%i: %s' % (n, dp[n]) for n in range(len(dp))]))\n",
    "\n",
    "    return maxSum"
   ]
  },
  {
   "cell_type": "code",
   "execution_count": 5,
   "metadata": {},
   "outputs": [
    {
     "name": "stdout",
     "output_type": "stream",
     "text": [
      "0: [0, 0, 0]\n",
      "1: [0, 0, 0]\n",
      "2: [0, 0, 0]\n",
      "0: [0, 0, 0]\n",
      "1: [0, 0, 0]\n",
      "2: [0, 0, 0]\n"
     ]
    },
    {
     "data": {
      "text/plain": [
       "0"
      ]
     },
     "execution_count": 5,
     "metadata": {},
     "output_type": "execute_result"
    }
   ],
   "source": [
    "lms([\n",
    "    [2, 2],\n",
    "    [2, 2]\n",
    "]) #2, 8"
   ]
  },
  {
   "cell_type": "code",
   "execution_count": 37,
   "metadata": {},
   "outputs": [
    {
     "name": "stdout",
     "output_type": "stream",
     "text": [
      "0: [1, 1, 1, 1, 1, 0]\n",
      "1: [0, 0, 0, 0, 0, 0]\n",
      "2: [0, 0, 0, 0, 0, 0]\n",
      "3: [0, 0, 0, 0, 0, 0]\n",
      "4: [0, 0, 0, 0, 0, 0]\n",
      "5: [0, 0, 0, 0, 0, 0]\n",
      "0: [1, 1, 1, 1, 1, 0]\n",
      "1: [0, 0, 0, 0, 0, 0]\n",
      "2: [0, 0, 0, 0, 0, 0]\n",
      "3: [0, 0, 0, 0, 0, 0]\n",
      "4: [0, 0, 0, 0, 0, 0]\n",
      "5: [0, 0, 0, 0, 0, 0]\n"
     ]
    },
    {
     "data": {
      "text/plain": [
       "1"
      ]
     },
     "execution_count": 37,
     "metadata": {},
     "output_type": "execute_result"
    }
   ],
   "source": [
    "lms([\n",
    "        [1, 1, 1, 1, 1],\n",
    "        [2, 2, 2, 2, 2],\n",
    "        [3, 8, 6, 7, 3],\n",
    "        [4, 4, 4, 4, 4],\n",
    "        [5, 5, 5, 5, 5]\n",
    "]) #"
   ]
  }
 ],
 "metadata": {
  "kernelspec": {
   "display_name": "Python 3",
   "language": "python",
   "name": "python3"
  },
  "language_info": {
   "codemirror_mode": {
    "name": "ipython",
    "version": 3
   },
   "file_extension": ".py",
   "mimetype": "text/x-python",
   "name": "python",
   "nbconvert_exporter": "python",
   "pygments_lexer": "ipython3",
   "version": "3.8.3"
  }
 },
 "nbformat": 4,
 "nbformat_minor": 4
}
