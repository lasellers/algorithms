{
 "cells": [
  {
   "cell_type": "markdown",
   "metadata": {},
   "source": [
    "# Pascals's Triangle"
   ]
  },
  {
   "cell_type": "markdown",
   "metadata": {},
   "source": [
    "\n",
    "* https://www.anaconda.com/products/individual/get-started\n"
   ]
  },
  {
   "cell_type": "code",
   "execution_count": 14,
   "metadata": {},
   "outputs": [],
   "source": [
    "def pascalsTriangle(n):\n",
    "    if n == 1:\n",
    "        return [1]\n",
    "    if n == 2:\n",
    "        return [[1,1]]\n",
    "\n",
    "    # setup DP table \n",
    "    dp = [[0]*n for i in range(n)]\n",
    "\n",
    "    #\n",
    "    for i in range(0,n):\n",
    "        dp[i][0]=1\n",
    "        dp[i][i]=1\n",
    "\n",
    "    # length > 2\n",
    "    for j in range(2,n):\n",
    "        for i in range(1,j-2+1+1):\n",
    "            dp[j][i] = dp[j-1][i] + dp[j-1][i-1] \n",
    "\n",
    "    return dp\n"
   ]
  },
  {
   "cell_type": "code",
   "execution_count": 13,
   "metadata": {},
   "outputs": [
    {
     "data": {
      "text/plain": [
       "[[1, 0, 0, 0, 0],\n",
       " [1, 1, 0, 0, 0],\n",
       " [1, 2, 1, 0, 0],\n",
       " [1, 3, 3, 1, 0],\n",
       " [1, 4, 6, 4, 1]]"
      ]
     },
     "execution_count": 13,
     "metadata": {},
     "output_type": "execute_result"
    }
   ],
   "source": [
    "pascalsTriangle(5)"
   ]
  },
  {
   "cell_type": "code",
   "execution_count": 15,
   "metadata": {},
   "outputs": [
    {
     "data": {
      "text/plain": [
       "[[1, 0, 0, 0, 0, 0, 0, 0, 0, 0],\n",
       " [1, 1, 0, 0, 0, 0, 0, 0, 0, 0],\n",
       " [1, 2, 1, 0, 0, 0, 0, 0, 0, 0],\n",
       " [1, 3, 3, 1, 0, 0, 0, 0, 0, 0],\n",
       " [1, 4, 6, 4, 1, 0, 0, 0, 0, 0],\n",
       " [1, 5, 10, 10, 5, 1, 0, 0, 0, 0],\n",
       " [1, 6, 15, 20, 15, 6, 1, 0, 0, 0],\n",
       " [1, 7, 21, 35, 35, 21, 7, 1, 0, 0],\n",
       " [1, 8, 28, 56, 70, 56, 28, 8, 1, 0],\n",
       " [1, 9, 36, 84, 126, 126, 84, 36, 9, 1]]"
      ]
     },
     "execution_count": 15,
     "metadata": {},
     "output_type": "execute_result"
    }
   ],
   "source": [
    "pascalsTriangle(10)"
   ]
  },
  {
   "cell_type": "code",
   "execution_count": 19,
   "metadata": {},
   "outputs": [
    {
     "data": {
      "text/plain": [
       "[[1, 0, 0, 0, 0, 0, 0, 0, 0, 0, 0, 0, 0, 0, 0],\n",
       " [1, 1, 0, 0, 0, 0, 0, 0, 0, 0, 0, 0, 0, 0, 0],\n",
       " [1, 2, 1, 0, 0, 0, 0, 0, 0, 0, 0, 0, 0, 0, 0],\n",
       " [1, 3, 3, 1, 0, 0, 0, 0, 0, 0, 0, 0, 0, 0, 0],\n",
       " [1, 4, 6, 4, 1, 0, 0, 0, 0, 0, 0, 0, 0, 0, 0],\n",
       " [1, 5, 10, 10, 5, 1, 0, 0, 0, 0, 0, 0, 0, 0, 0],\n",
       " [1, 6, 15, 20, 15, 6, 1, 0, 0, 0, 0, 0, 0, 0, 0],\n",
       " [1, 7, 21, 35, 35, 21, 7, 1, 0, 0, 0, 0, 0, 0, 0],\n",
       " [1, 8, 28, 56, 70, 56, 28, 8, 1, 0, 0, 0, 0, 0, 0],\n",
       " [1, 9, 36, 84, 126, 126, 84, 36, 9, 1, 0, 0, 0, 0, 0],\n",
       " [1, 10, 45, 120, 210, 252, 210, 120, 45, 10, 1, 0, 0, 0, 0],\n",
       " [1, 11, 55, 165, 330, 462, 462, 330, 165, 55, 11, 1, 0, 0, 0],\n",
       " [1, 12, 66, 220, 495, 792, 924, 792, 495, 220, 66, 12, 1, 0, 0],\n",
       " [1, 13, 78, 286, 715, 1287, 1716, 1716, 1287, 715, 286, 78, 13, 1, 0],\n",
       " [1, 14, 91, 364, 1001, 2002, 3003, 3432, 3003, 2002, 1001, 364, 91, 14, 1]]"
      ]
     },
     "execution_count": 19,
     "metadata": {},
     "output_type": "execute_result"
    }
   ],
   "source": [
    "pascalsTriangle(15)"
   ]
  }
 ],
 "metadata": {
  "kernelspec": {
   "display_name": "Python 3",
   "language": "python",
   "name": "python3"
  },
  "language_info": {
   "codemirror_mode": {
    "name": "ipython",
    "version": 3
   },
   "file_extension": ".py",
   "mimetype": "text/x-python",
   "name": "python",
   "nbconvert_exporter": "python",
   "pygments_lexer": "ipython3",
   "version": "3.8.3"
  }
 },
 "nbformat": 4,
 "nbformat_minor": 4
}
