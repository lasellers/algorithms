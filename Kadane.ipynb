{
 "cells": [
  {
   "cell_type": "markdown",
   "metadata": {},
   "source": [
    "# \"Kadane's Algorithm\""
   ]
  },
  {
   "cell_type": "markdown",
   "metadata": {},
   "source": [
    "## This is a test\n",
    "* Hello\n",
    "* Hello 2\n"
   ]
  },
  {
   "cell_type": "code",
   "execution_count": 12,
   "metadata": {},
   "outputs": [],
   "source": [
    "# Find the largest sum of any contiguous subarray.\n",
    "def kadaneBrute(numbers):\n",
    "    best_sum = float('-inf')\n",
    "    current_sum = 0\n",
    "    for x in numbers:\n",
    "        current_sum = max(0, current_sum + x)\n",
    "        best_sum = max(best_sum, current_sum)\n",
    "    return best_sum\n"
   ]
  },
  {
   "cell_type": "code",
   "execution_count": 17,
   "metadata": {},
   "outputs": [
    {
     "data": {
      "text/plain": [
       "6"
      ]
     },
     "execution_count": 17,
     "metadata": {},
     "output_type": "execute_result"
    }
   ],
   "source": [
    "kadaneBrute([1,2,3])"
   ]
  },
  {
   "cell_type": "code",
   "execution_count": 18,
   "metadata": {},
   "outputs": [
    {
     "data": {
      "text/plain": [
       "6"
      ]
     },
     "execution_count": 18,
     "metadata": {},
     "output_type": "execute_result"
    }
   ],
   "source": [
    "kadaneBrute([1,2,3,-5,1])"
   ]
  },
  {
   "cell_type": "code",
   "execution_count": 19,
   "metadata": {},
   "outputs": [
    {
     "data": {
      "text/plain": [
       "11"
      ]
     },
     "execution_count": 19,
     "metadata": {},
     "output_type": "execute_result"
    }
   ],
   "source": [
    "kadaneBrute([1,2,3,-5,1,2,3,4])"
   ]
  },
  {
   "cell_type": "code",
   "execution_count": 13,
   "metadata": {},
   "outputs": [],
   "source": [
    "def kadane(numbers):\n",
    "    \"\"\"Find a contiguous subarray with the largest sum.\"\"\"\n",
    "    best_sum = 0  # or: float('-inf')\n",
    "    best_start = best_end = 0  # or: None\n",
    "    current_sum = 0\n",
    "    for current_end, x in enumerate(numbers):\n",
    "        if current_sum <= 0:\n",
    "            # Start a new sequence at the current element\n",
    "            current_start = current_end\n",
    "            current_sum = x\n",
    "        else:\n",
    "            # Extend the existing sequence with the current element\n",
    "            current_sum += x\n",
    "\n",
    "        if current_sum > best_sum:\n",
    "            best_sum = current_sum\n",
    "            best_start = current_start\n",
    "            best_end = current_end + 1  # the +1 is to make 'best_end' exclusive\n",
    "\n",
    "    return best_sum, best_start, best_end"
   ]
  },
  {
   "cell_type": "code",
   "execution_count": 14,
   "metadata": {},
   "outputs": [
    {
     "data": {
      "text/plain": [
       "(6, 0, 3)"
      ]
     },
     "execution_count": 14,
     "metadata": {},
     "output_type": "execute_result"
    }
   ],
   "source": [
    "kadane([1,2,3,-5])"
   ]
  },
  {
   "cell_type": "code",
   "execution_count": 15,
   "metadata": {},
   "outputs": [
    {
     "data": {
      "text/plain": [
       "(11, 0, 8)"
      ]
     },
     "execution_count": 15,
     "metadata": {},
     "output_type": "execute_result"
    }
   ],
   "source": [
    "kadane([1,2,3,-5,1,2,3,4])"
   ]
  },
  {
   "cell_type": "code",
   "execution_count": 16,
   "metadata": {},
   "outputs": [
    {
     "data": {
      "text/plain": [
       "(11, 1, 9)"
      ]
     },
     "execution_count": 16,
     "metadata": {},
     "output_type": "execute_result"
    }
   ],
   "source": [
    "kadane([-100,1,2,3,-5,1,2,3,4])"
   ]
  }
 ],
 "metadata": {
  "kernelspec": {
   "display_name": "Python 3",
   "language": "python",
   "name": "python3"
  },
  "language_info": {
   "codemirror_mode": {
    "name": "ipython",
    "version": 3
   },
   "file_extension": ".py",
   "mimetype": "text/x-python",
   "name": "python",
   "nbconvert_exporter": "python",
   "pygments_lexer": "ipython3",
   "version": "3.8.5"
  }
 },
 "nbformat": 4,
 "nbformat_minor": 4
}
