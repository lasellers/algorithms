{
 "cells": [
  {
   "cell_type": "markdown",
   "metadata": {},
   "source": [
    "# Largest Maximal Square"
   ]
  },
  {
   "cell_type": "code",
   "execution_count": 81,
   "metadata": {},
   "outputs": [],
   "source": [
    "# dynamic programming version\n",
    "def largestMaximalSquare(arr):\n",
    "    H = len(arr)\n",
    "    W = len(arr[0])\n",
    "\n",
    "    if H == 0 or W == 0:\n",
    "        return 0\n",
    "      \n",
    "    # setup DP table \n",
    "    dp = [[0]*(W+1) for i in range(H+1)]\n",
    "\n",
    "    answer = 0\n",
    "\n",
    "    # kind of an edge filter\n",
    "    for row in range(0, H-1):\n",
    "        for col in range(0, W-1):\n",
    "            if arr[row][col] == 1:\n",
    "                dp[row][col] = 1\n",
    "            if row > 0 and col > 0:\n",
    "                dp[row][col] += min(\n",
    "                    dp[row-1][col],\n",
    "                    dp[row][col-1],\n",
    "                dp[row-1][col-1])\n",
    "            answer = max(answer, dp[row][col])\n",
    "      \n",
    "    return answer\n"
   ]
  },
  {
   "cell_type": "code",
   "execution_count": 77,
   "metadata": {},
   "outputs": [
    {
     "data": {
      "text/plain": [
       "0"
      ]
     },
     "execution_count": 77,
     "metadata": {},
     "output_type": "execute_result"
    }
   ],
   "source": [
    "largestMaximalSquare([\n",
    "[0,0],\n",
    "[0,0],\n",
    "])"
   ]
  },
  {
   "cell_type": "code",
   "execution_count": 78,
   "metadata": {},
   "outputs": [
    {
     "data": {
      "text/plain": [
       "1"
      ]
     },
     "execution_count": 78,
     "metadata": {},
     "output_type": "execute_result"
    }
   ],
   "source": [
    "largestMaximalSquare([\n",
    "[1,1],\n",
    "[1,1],\n",
    "])"
   ]
  },
  {
   "cell_type": "code",
   "execution_count": 79,
   "metadata": {},
   "outputs": [
    {
     "data": {
      "text/plain": [
       "2"
      ]
     },
     "execution_count": 79,
     "metadata": {},
     "output_type": "execute_result"
    }
   ],
   "source": [
    "largestMaximalSquare([\n",
    "[1,0,1,0,0],\n",
    "[1,0,1,1,1],\n",
    "[1,1,1,1,1],\n",
    "[1,0,0,1,0]\n",
    "])"
   ]
  },
  {
   "cell_type": "code",
   "execution_count": 80,
   "metadata": {},
   "outputs": [
    {
     "data": {
      "text/plain": [
       "2"
      ]
     },
     "execution_count": 80,
     "metadata": {},
     "output_type": "execute_result"
    }
   ],
   "source": [
    "largestMaximalSquare([\n",
    "[1,0,1,0],\n",
    "[1,0,1,1],\n",
    "[1,1,1,1],\n",
    "[1,0,1,1],\n",
    "[1,1,1,1],\n",
    "[1,0,0,1]\n",
    "])"
   ]
  },
  {
   "cell_type": "code",
   "execution_count": 70,
   "metadata": {},
   "outputs": [
    {
     "data": {
      "text/plain": [
       "2"
      ]
     },
     "execution_count": 70,
     "metadata": {},
     "output_type": "execute_result"
    }
   ],
   "source": [
    "largestMaximalSquare([\n",
    "[1,0,1,0,0,0,0],\n",
    "[1,0,1,1,1,1,1],\n",
    "[1,1,1,1,1,1,1],\n",
    "[1,0,0,1,0,0,0]\n",
    "])"
   ]
  },
  {
   "cell_type": "code",
   "execution_count": 71,
   "metadata": {},
   "outputs": [
    {
     "data": {
      "text/plain": [
       "2"
      ]
     },
     "execution_count": 71,
     "metadata": {},
     "output_type": "execute_result"
    }
   ],
   "source": [
    "largestMaximalSquare([\n",
    "[1,0,1,0,0],\n",
    "[1,0,1,1,1],\n",
    "[1,1,1,1,1],\n",
    "[1,1,1,1,1],\n",
    "[1,0,0,1,0]\n",
    "])"
   ]
  },
  {
   "cell_type": "code",
   "execution_count": 72,
   "metadata": {},
   "outputs": [
    {
     "data": {
      "text/plain": [
       "3"
      ]
     },
     "execution_count": 72,
     "metadata": {},
     "output_type": "execute_result"
    }
   ],
   "source": [
    "largestMaximalSquare([\n",
    "[1,0,1,0,0,0],\n",
    "[1,0,1,1,1,1],\n",
    "[1,1,1,1,1,1],\n",
    "[1,0,1,1,1,1],\n",
    "[1,1,1,1,1,1],\n",
    "[1,0,0,1,0,0]\n",
    "])"
   ]
  }
 ],
 "metadata": {
  "kernelspec": {
   "display_name": "Python 3",
   "language": "python",
   "name": "python3"
  },
  "language_info": {
   "codemirror_mode": {
    "name": "ipython",
    "version": 3
   },
   "file_extension": ".py",
   "mimetype": "text/x-python",
   "name": "python",
   "nbconvert_exporter": "python",
   "pygments_lexer": "ipython3",
   "version": "3.8.5"
  }
 },
 "nbformat": 4,
 "nbformat_minor": 4
}
