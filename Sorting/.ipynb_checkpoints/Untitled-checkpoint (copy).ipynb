{
 "cells": [
  {
   "cell_type": "code",
   "execution_count": 11,
   "metadata": {},
   "outputs": [],
   "source": [
    "matrix2 = [\n",
    "    [1, 1, 1, 0, 0, 0],\n",
    "    [0, 1, 0, 0, 0, 0],\n",
    "    [1, 1, 1, 0, 0, 0],\n",
    "    [0, 0, 0, 0, 0, 0],\n",
    "    [0, 0, 0, 0, 0, 0],\n",
    "    [0, 0, 0, 0, 0, 0]\n",
    "    ]"
   ]
  },
  {
   "cell_type": "code",
   "execution_count": 10,
   "metadata": {},
   "outputs": [],
   "source": [
    "matrix = [\n",
    "    [-9, -9, -9, 1, 1, 1],\n",
    "    [0, -9, 0, 4, 3, 2],\n",
    "    [-9, -9, -9, 1, 2, 3],\n",
    "    [0, 0, 8, 6, 6, 0],\n",
    "    [0, 0, 0, -2, 0, 0],\n",
    "    [0, 0, 1, 2, 4, 0]\n",
    "    ]"
   ]
  },
  {
   "cell_type": "code",
   "execution_count": 51,
   "metadata": {},
   "outputs": [],
   "source": [
    "def hourGlass(data):\n",
    "    sums = []\n",
    "    points = [[0,0],[1,0],[2,0],[1,1],[0,2],[1,2],[2,2]]\n",
    "    W = len(data)\n",
    "    H = len(data[0])\n",
    "    for y in range(0,H-2):\n",
    "        for x in range(0,W-2):\n",
    "\n",
    "            #valid = True\n",
    "            #for point in points:\n",
    "            #    value = data[y+point[1]][x+point[0]]\n",
    "            #    #print(\"value=\"+str(value))\n",
    "            #    if value == 0 :\n",
    "            #        valid = False\n",
    "            #        break\n",
    "            #print(valid)\n",
    "\n",
    "            #if valid == True:\n",
    "                sum = 0\n",
    "                for point in points:\n",
    "                    value = data[y+point[1]][x+point[0]]\n",
    "                    sum += value\n",
    "                #print(sum)\n",
    "                sums.append(sum)\n",
    "    return [max(sums),sums]\n"
   ]
  },
  {
   "cell_type": "code",
   "execution_count": 52,
   "metadata": {},
   "outputs": [
    {
     "data": {
      "text/plain": [
       "[28, [-63, -34, -9, 12, -10, 0, 28, 23, -27, -11, -2, 10, 9, 17, 25, 18]]"
      ]
     },
     "execution_count": 52,
     "metadata": {},
     "output_type": "execute_result"
    }
   ],
   "source": [
    "hourGlass([\n",
    "    [-9, -9, -9, 1, 1, 1],\n",
    "    [0, -9, 0, 4, 3, 2],\n",
    "    [-9, -9, -9, 1, 2, 3],\n",
    "    [0, 0, 8, 6, 6, 0],\n",
    "    [0, 0, 0, -2, 0, 0],\n",
    "    [0, 0, 1, 2, 4, 0]\n",
    "    ])"
   ]
  },
  {
   "cell_type": "code",
   "execution_count": 53,
   "metadata": {},
   "outputs": [
    {
     "data": {
      "text/plain": [
       "[7, [7, 4, 2, 0, 2, 2, 0, 0, 3, 2, 1, 0, 0, 0, 0, 0]]"
      ]
     },
     "execution_count": 53,
     "metadata": {},
     "output_type": "execute_result"
    }
   ],
   "source": [
    "hourGlass([\n",
    "    [1, 1, 1, 0, 0, 0],\n",
    "    [0, 1, 0, 0, 0, 0],\n",
    "    [1, 1, 1, 0, 0, 0],\n",
    "    [0, 0, 0, 0, 0, 0],\n",
    "    [0, 0, 0, 0, 0, 0],\n",
    "    [0, 0, 0, 0, 0, 0]\n",
    "    ])"
   ]
  }
 ],
 "metadata": {
  "kernelspec": {
   "display_name": "Python 3",
   "language": "python",
   "name": "python3"
  },
  "language_info": {
   "codemirror_mode": {
    "name": "ipython",
    "version": 3
   },
   "file_extension": ".py",
   "mimetype": "text/x-python",
   "name": "python",
   "nbconvert_exporter": "python",
   "pygments_lexer": "ipython3",
   "version": "3.8.3"
  }
 },
 "nbformat": 4,
 "nbformat_minor": 4
}
