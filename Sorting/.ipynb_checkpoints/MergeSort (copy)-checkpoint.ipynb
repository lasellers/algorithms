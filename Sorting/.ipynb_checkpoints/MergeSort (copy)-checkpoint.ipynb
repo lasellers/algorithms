{
 "cells": [
  {
   "cell_type": "markdown",
   "metadata": {},
   "source": [
    "# MergeSort"
   ]
  },
  {
   "cell_type": "code",
   "execution_count": 28,
   "metadata": {},
   "outputs": [],
   "source": [
    "class MergeSort:\n",
    "    swaps = -1\n",
    "\n",
    "    # todo\n",
    "    def sort(self, arr):\n",
    "        if len(arr) <=1:\n",
    "            return\n",
    "           \n",
    "        self.swaps = 0\n",
    "        self.mergeSort(arr,len(arr))\n",
    "        \n",
    "        return {\"data\":arr, \"swaps\":self.swaps}\n",
    "\n",
    "    def mergeSort(self, arr, strlen):\n",
    "        if strlen < 2:\n",
    "            return\n",
    "\n",
    "        mid = strlen // 2\n",
    "        lenmid = strlen - mid\n",
    "\n",
    "        l = [0]*mid\n",
    "        r = [0]*lenmid\n",
    "\n",
    "        #System.arraycopy(arr, 0, l, 0, mid);\n",
    "        if lenmid >= 0:\n",
    "            for i in range(mid, lenmid):\n",
    "                r[i - mid] = arr[i]\n",
    "\n",
    "        self.mergeSort(l, mid)\n",
    "        self.mergeSort(r, lenmid)\n",
    "\n",
    "        self.merge(arr, l, r, mid, lenmid)\n",
    "        self.swaps+=1\n",
    "\n",
    "    def merge(self, arr, l, r, left, right):\n",
    "        i = 0\n",
    "        j = 0\n",
    "        k = 0\n",
    "        while i < left and j < right:\n",
    "            if l[i] <= r[j]:\n",
    "                arr[k] = l[i]\n",
    "                k+=1\n",
    "                i+=1\n",
    "            else:\n",
    "                arr[k] = r[j]\n",
    "                k+=1\n",
    "                j+=1\n",
    "        while i < left:\n",
    "            arr[k] = l[i]\n",
    "            k+=1\n",
    "            i+=1\n",
    "        while j < right:\n",
    "            arr[k] = r[j]\n",
    "            k+=1\n",
    "            j+=1\n",
    "\n"
   ]
  },
  {
   "cell_type": "code",
   "execution_count": 23,
   "metadata": {},
   "outputs": [
    {
     "data": {
      "text/plain": [
       "{'data': [0, 0, 0, 0, 0, 0, 0, 0, 0, 0, 0], 'swaps': 10}"
      ]
     },
     "execution_count": 23,
     "metadata": {},
     "output_type": "execute_result"
    }
   ],
   "source": [
    "x = MergeSort()\n",
    "x.sort([2,3,4,7,8,9,11,-13,7,-5,-100])"
   ]
  },
  {
   "cell_type": "code",
   "execution_count": 24,
   "metadata": {},
   "outputs": [
    {
     "data": {
      "text/plain": [
       "{'data': [0, 0, 0, 0, 0, 0, 0, 0, 0, 0, 0, 0, 0, 0], 'swaps': 13}"
      ]
     },
     "execution_count": 24,
     "metadata": {},
     "output_type": "execute_result"
    }
   ],
   "source": [
    "x = MergeSort()\n",
    "x.sort([100,90,80,70,60,50,1,2,3,4,5,-100,-200,-1000])"
   ]
  },
  {
   "cell_type": "code",
   "execution_count": 25,
   "metadata": {},
   "outputs": [
    {
     "data": {
      "text/plain": [
       "{'data': [0, 0, 0, 0, 0, 0, 0, 0], 'swaps': 7}"
      ]
     },
     "execution_count": 25,
     "metadata": {},
     "output_type": "execute_result"
    }
   ],
   "source": [
    "x = MergeSort()\n",
    "x.sort([-2,3,4,7,8,9,11,13])"
   ]
  },
  {
   "cell_type": "code",
   "execution_count": 26,
   "metadata": {},
   "outputs": [],
   "source": [
    "x = MergeSort()\n",
    "x.sort([])"
   ]
  },
  {
   "cell_type": "code",
   "execution_count": 26,
   "metadata": {},
   "outputs": [
    {
     "data": {
      "text/plain": [
       "{'data': [1, 2], 'swaps': 1}"
      ]
     },
     "execution_count": 26,
     "metadata": {},
     "output_type": "execute_result"
    }
   ],
   "source": [
    "x = MergeSort()\n",
    "x.sort([2,1])"
   ]
  },
  {
   "cell_type": "code",
   "execution_count": 27,
   "metadata": {},
   "outputs": [
    {
     "data": {
      "text/plain": [
       "{'data': [1, 2], 'swaps': 1}"
      ]
     },
     "execution_count": 27,
     "metadata": {},
     "output_type": "execute_result"
    }
   ],
   "source": [
    "x = MergeSort()\n",
    "x.sort([2,1])"
   ]
  },
  {
   "cell_type": "code",
   "execution_count": 32,
   "metadata": {},
   "outputs": [
    {
     "name": "stdout",
     "output_type": "stream",
     "text": [
      "[-100, -13, -5, 2, 3, 4, 7, 7, 8, 9, 11]\n",
      "28\n"
     ]
    }
   ],
   "source": [
    "x = MergeSort()\n",
    "a = x.sort([2,3,4,7,8,9,11,-13,7,-5,-100])\n",
    "print(a['data'])\n",
    "print(a['swaps'])"
   ]
  },
  {
   "cell_type": "code",
   "execution_count": null,
   "metadata": {},
   "outputs": [],
   "source": []
  }
 ],
 "metadata": {
  "kernelspec": {
   "display_name": "Python 3",
   "language": "python",
   "name": "python3"
  },
  "language_info": {
   "codemirror_mode": {
    "name": "ipython",
    "version": 3
   },
   "file_extension": ".py",
   "mimetype": "text/x-python",
   "name": "python",
   "nbconvert_exporter": "python",
   "pygments_lexer": "ipython3",
   "version": "3.8.3"
  }
 },
 "nbformat": 4,
 "nbformat_minor": 4
}
