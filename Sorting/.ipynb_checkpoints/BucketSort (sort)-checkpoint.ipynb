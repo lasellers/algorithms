{
 "cells": [
  {
   "cell_type": "markdown",
   "metadata": {},
   "source": [
    "# BucketSort"
   ]
  },
  {
   "cell_type": "code",
   "execution_count": 51,
   "metadata": {},
   "outputs": [],
   "source": [
    "# expands data oput into associative array, then condenses\n",
    "# Only works for positive integers\n",
    "class BucketSort:\n",
    "    swaps = -1\n",
    "\n",
    "    def sort(self, arr):\n",
    "        self.swaps = 0\n",
    "        \n",
    "        arrlen = len(arr)\n",
    "\n",
    "        # compute max value\n",
    "        invalidCount =  0\n",
    "        maxV = 0;\n",
    "        for index in range(0, arrlen):\n",
    "            value = arr[index]\n",
    "            if value > maxV:\n",
    "                maxV = value\n",
    "            if value < 0:\n",
    "                invalidCount+=1\n",
    "        \n",
    "        bucket = [0]*(maxV+1)\n",
    "        for index in range(0, arrlen):\n",
    "            value = arr[index]\n",
    "            if value >=0:\n",
    "                bucket[value] = value\n",
    "\n",
    "        bucketLen = len(bucket) - 1\n",
    "        arr2 = list(filter(lambda value: value > 0, bucket))\n",
    "\n",
    "        # prefill with 0s\n",
    "        for index in range(arrlen):\n",
    "            arr[index] = 0\n",
    "\n",
    "        # de-expand data\n",
    "        for index,value in enumerate(arr2):\n",
    "            arr[index] = value\n",
    "    \n",
    "        return {\"data\":arr, \"swaps\":self.swaps, \"invalidCount\": invalidCount}\n"
   ]
  },
  {
   "cell_type": "code",
   "execution_count": 53,
   "metadata": {},
   "outputs": [
    {
     "data": {
      "text/plain": [
       "{'data': [1, 2, 3], 'swaps': 0, 'invalidCount': 0}"
      ]
     },
     "execution_count": 53,
     "metadata": {},
     "output_type": "execute_result"
    }
   ],
   "source": [
    "x = BucketSort()\n",
    "x.sort([1,2,3])"
   ]
  },
  {
   "cell_type": "code",
   "execution_count": 54,
   "metadata": {},
   "outputs": [
    {
     "data": {
      "text/plain": [
       "{'data': [1, 2, 3], 'swaps': 0, 'invalidCount': 0}"
      ]
     },
     "execution_count": 54,
     "metadata": {},
     "output_type": "execute_result"
    }
   ],
   "source": [
    "x = BucketSort()\n",
    "x.sort([3,2,1])"
   ]
  },
  {
   "cell_type": "code",
   "execution_count": 55,
   "metadata": {},
   "outputs": [
    {
     "data": {
      "text/plain": [
       "{'data': [2, 3, 4, 7, 8, 9, 11, 0, 0, 0, 0], 'swaps': 0, 'invalidCount': 3}"
      ]
     },
     "execution_count": 55,
     "metadata": {},
     "output_type": "execute_result"
    }
   ],
   "source": [
    "x = BucketSort()\n",
    "x.sort([2,3,4,7,8,9,11,-13,7,-5,-100])"
   ]
  },
  {
   "cell_type": "code",
   "execution_count": 56,
   "metadata": {},
   "outputs": [
    {
     "data": {
      "text/plain": [
       "{'data': [1, 2, 3, 4, 5, 50, 60, 70, 80, 90, 100, 0, 0, 0],\n",
       " 'swaps': 0,\n",
       " 'invalidCount': 3}"
      ]
     },
     "execution_count": 56,
     "metadata": {},
     "output_type": "execute_result"
    }
   ],
   "source": [
    "x = BucketSort()\n",
    "x.sort([100,90,80,70,60,50,1,2,3,4,5,-100,-200,-1000])"
   ]
  },
  {
   "cell_type": "code",
   "execution_count": 57,
   "metadata": {},
   "outputs": [
    {
     "data": {
      "text/plain": [
       "{'data': [3, 4, 7, 8, 9, 11, 13, 0], 'swaps': 0, 'invalidCount': 1}"
      ]
     },
     "execution_count": 57,
     "metadata": {},
     "output_type": "execute_result"
    }
   ],
   "source": [
    "x = BucketSort()\n",
    "x.sort([-2,3,4,7,8,9,11,13])"
   ]
  },
  {
   "cell_type": "code",
   "execution_count": 58,
   "metadata": {},
   "outputs": [
    {
     "data": {
      "text/plain": [
       "{'data': [], 'swaps': 0, 'invalidCount': 0}"
      ]
     },
     "execution_count": 58,
     "metadata": {},
     "output_type": "execute_result"
    }
   ],
   "source": [
    "x = BucketSort()\n",
    "x.sort([])"
   ]
  },
  {
   "cell_type": "code",
   "execution_count": 59,
   "metadata": {},
   "outputs": [
    {
     "data": {
      "text/plain": [
       "{'data': [1, 2], 'swaps': 0, 'invalidCount': 0}"
      ]
     },
     "execution_count": 59,
     "metadata": {},
     "output_type": "execute_result"
    }
   ],
   "source": [
    "x = BucketSort()\n",
    "x.sort([2,1])"
   ]
  },
  {
   "cell_type": "code",
   "execution_count": 60,
   "metadata": {},
   "outputs": [
    {
     "name": "stdout",
     "output_type": "stream",
     "text": [
      "[2, 3, 4, 7, 8, 9, 11, 0, 0, 0, 0]\n",
      "0\n"
     ]
    }
   ],
   "source": [
    "x = BucketSort()\n",
    "a = x.sort([2,3,4,7,8,9,11,-13,7,-5,-100])\n",
    "print(a['data'])\n",
    "print(a['swaps'])"
   ]
  },
  {
   "cell_type": "code",
   "execution_count": null,
   "metadata": {},
   "outputs": [],
   "source": []
  },
  {
   "cell_type": "code",
   "execution_count": null,
   "metadata": {},
   "outputs": [],
   "source": []
  },
  {
   "cell_type": "code",
   "execution_count": null,
   "metadata": {},
   "outputs": [],
   "source": []
  }
 ],
 "metadata": {
  "kernelspec": {
   "display_name": "Python 3",
   "language": "python",
   "name": "python3"
  },
  "language_info": {
   "codemirror_mode": {
    "name": "ipython",
    "version": 3
   },
   "file_extension": ".py",
   "mimetype": "text/x-python",
   "name": "python",
   "nbconvert_exporter": "python",
   "pygments_lexer": "ipython3",
   "version": "3.8.3"
  }
 },
 "nbformat": 4,
 "nbformat_minor": 4
}
