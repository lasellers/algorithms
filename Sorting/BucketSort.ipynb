{
 "cells": [
  {
   "cell_type": "markdown",
   "metadata": {},
   "source": [
    "# BucketSort"
   ]
  },
  {
   "cell_type": "code",
   "execution_count": 66,
   "metadata": {},
   "outputs": [],
   "source": [
    "# expands data oput into associative array, then condenses\n",
    "# Only works for positive integers\n",
    "class BucketSort:\n",
    "    swaps = -1\n",
    "\n",
    "    def sort(self, arr):\n",
    "        self.swaps = 0\n",
    "        \n",
    "        arrlen = len(arr)\n",
    "\n",
    "        # compute max value\n",
    "        droppedInvalids =  []\n",
    "        maxV = 0;\n",
    "        for index in range(0, arrlen):\n",
    "            value = arr[index]\n",
    "            if value > maxV:\n",
    "                maxV = value\n",
    "            if value < 0:\n",
    "                droppedInvalids.append(value)\n",
    "        \n",
    "        bucket = [0]*(maxV+1)\n",
    "        for index in range(0, arrlen):\n",
    "            value = arr[index]\n",
    "            if value >=0:\n",
    "                bucket[value] = value\n",
    "\n",
    "        bucketLen = len(bucket) - 1\n",
    "        arr2 = list(filter(lambda value: value > 0, bucket))\n",
    "\n",
    "        # prefill with 0s\n",
    "        for index in range(arrlen):\n",
    "            arr[index] = 0\n",
    "\n",
    "        # de-expand data\n",
    "        for index,value in enumerate(arr2):\n",
    "            arr[index] = value\n",
    "    \n",
    "        return {\"data\":arr, \"swaps\":self.swaps, \"droppedInvalids\": droppedInvalids}\n"
   ]
  },
  {
   "cell_type": "code",
   "execution_count": 63,
   "metadata": {},
   "outputs": [
    {
     "data": {
      "text/plain": [
       "{'data': [1, 2, 3], 'swaps': 0, 'droppedInvalids': []}"
      ]
     },
     "execution_count": 63,
     "metadata": {},
     "output_type": "execute_result"
    }
   ],
   "source": [
    "x = BucketSort()\n",
    "x.sort([1,2,3])"
   ]
  },
  {
   "cell_type": "code",
   "execution_count": 64,
   "metadata": {},
   "outputs": [
    {
     "data": {
      "text/plain": [
       "{'data': [1, 2, 3], 'swaps': 0, 'droppedInvalids': []}"
      ]
     },
     "execution_count": 64,
     "metadata": {},
     "output_type": "execute_result"
    }
   ],
   "source": [
    "x = BucketSort()\n",
    "x.sort([3,2,1])"
   ]
  },
  {
   "cell_type": "code",
   "execution_count": 67,
   "metadata": {},
   "outputs": [
    {
     "data": {
      "text/plain": [
       "{'data': [2, 3, 4, 7, 8, 9, 11, 0, 0, 0, 0],\n",
       " 'swaps': 0,\n",
       " 'droppedInvalids': [-13, -5, -100]}"
      ]
     },
     "execution_count": 67,
     "metadata": {},
     "output_type": "execute_result"
    }
   ],
   "source": [
    "x = BucketSort()\n",
    "x.sort([2,3,4,7,8,9,11,-13,7,-5,-100])"
   ]
  },
  {
   "cell_type": "code",
   "execution_count": 68,
   "metadata": {},
   "outputs": [
    {
     "data": {
      "text/plain": [
       "{'data': [1, 2, 3, 4, 5, 50, 60, 70, 80, 90, 100, 0, 0, 0],\n",
       " 'swaps': 0,\n",
       " 'droppedInvalids': [-100, -200, -1000]}"
      ]
     },
     "execution_count": 68,
     "metadata": {},
     "output_type": "execute_result"
    }
   ],
   "source": [
    "x = BucketSort()\n",
    "x.sort([100,90,80,70,60,50,1,2,3,4,5,-100,-200,-1000])"
   ]
  },
  {
   "cell_type": "code",
   "execution_count": 69,
   "metadata": {},
   "outputs": [
    {
     "data": {
      "text/plain": [
       "{'data': [3, 4, 7, 8, 9, 11, 13, 0], 'swaps': 0, 'droppedInvalids': [-2]}"
      ]
     },
     "execution_count": 69,
     "metadata": {},
     "output_type": "execute_result"
    }
   ],
   "source": [
    "x = BucketSort()\n",
    "x.sort([-2,3,4,7,8,9,11,13])"
   ]
  },
  {
   "cell_type": "code",
   "execution_count": 70,
   "metadata": {},
   "outputs": [
    {
     "data": {
      "text/plain": [
       "{'data': [], 'swaps': 0, 'droppedInvalids': []}"
      ]
     },
     "execution_count": 70,
     "metadata": {},
     "output_type": "execute_result"
    }
   ],
   "source": [
    "x = BucketSort()\n",
    "x.sort([])"
   ]
  },
  {
   "cell_type": "code",
   "execution_count": 71,
   "metadata": {},
   "outputs": [
    {
     "data": {
      "text/plain": [
       "{'data': [1, 2], 'swaps': 0, 'droppedInvalids': []}"
      ]
     },
     "execution_count": 71,
     "metadata": {},
     "output_type": "execute_result"
    }
   ],
   "source": [
    "x = BucketSort()\n",
    "x.sort([2,1])"
   ]
  },
  {
   "cell_type": "code",
   "execution_count": 72,
   "metadata": {},
   "outputs": [
    {
     "name": "stdout",
     "output_type": "stream",
     "text": [
      "[2, 3, 4, 7, 8, 9, 11, 0, 0, 0, 0]\n",
      "0\n"
     ]
    }
   ],
   "source": [
    "x = BucketSort()\n",
    "a = x.sort([2,3,4,7,8,9,11,-13,7,-5,-100])\n",
    "print(a['data'])\n",
    "print(a['swaps'])"
   ]
  }
 ],
 "metadata": {
  "kernelspec": {
   "display_name": "Python 3",
   "language": "python",
   "name": "python3"
  },
  "language_info": {
   "codemirror_mode": {
    "name": "ipython",
    "version": 3
   },
   "file_extension": ".py",
   "mimetype": "text/x-python",
   "name": "python",
   "nbconvert_exporter": "python",
   "pygments_lexer": "ipython3",
   "version": "3.8.3"
  }
 },
 "nbformat": 4,
 "nbformat_minor": 4
}
