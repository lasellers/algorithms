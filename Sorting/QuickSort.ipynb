{
 "cells": [
  {
   "cell_type": "markdown",
   "metadata": {},
   "source": [
    "# QuickSort"
   ]
  },
  {
   "cell_type": "code",
   "execution_count": 70,
   "metadata": {},
   "outputs": [],
   "source": [
    "# Brute force\n",
    "# todo...\n",
    "class QuickSort:\n",
    "    swaps = -1\n",
    "    arr = []\n",
    "\n",
    "    def sort(self, arr):\n",
    "        self.arr = arr\n",
    "        swaps = 0\n",
    "        self.sortAlg(0, len(self.arr) - 1)\n",
    "        return self.arr\n",
    "    \n",
    "    def getSwaps(self):\n",
    "        return self.swaps\n",
    "   \n",
    "    def sortAlg(self, begin, end):\n",
    "        print(\"sortAlg:\"+str(begin)+\",\"+str(end))\n",
    "        if begin < end:\n",
    "            partitionIndex = self.partition(begin, end)\n",
    "            print(\" sortAlg: partitionIndex:\"+str(partitionIndex))\n",
    "            if partitionIndex > 0:\n",
    "                self.sortAlg(begin, partitionIndex - 1)\n",
    "                self.sortAlg(partitionIndex + 1, end)\n",
    "\n",
    "    def partition(self, begin, end):\n",
    "        pivot = self.arr[end]\n",
    "        slidingIndex = begin - 1\n",
    "        print(\"  partition: pivot:\"+str(pivot))\n",
    "        print(\"  partition: slidingIndex:\"+str(slidingIndex))\n",
    "\n",
    "        for loopIndex in range(begin, end):\n",
    "            if self.arr[loopIndex] <= pivot:\n",
    "                ++slidingIndex\n",
    "                self.swap( slidingIndex, loopIndex)\n",
    "\n",
    "        ++slidingIndex\n",
    "        self.swap(slidingIndex, end)\n",
    "\n",
    "        return slidingIndex\n",
    "    \n",
    "    def swap(self, indexA, indexB):\n",
    "        swapTemp = self.arr[indexA]\n",
    "        self.arr[indexA] = self.arr[indexB]\n",
    "        self.arr[indexB] = swapTemp\n",
    "        ++self.swaps\n"
   ]
  },
  {
   "cell_type": "code",
   "execution_count": 71,
   "metadata": {},
   "outputs": [
    {
     "name": "stdout",
     "output_type": "stream",
     "text": [
      "sortAlg:0,7\n",
      "  partition: pivot:13\n",
      "  partition: slidingIndex:-1\n",
      " sortAlg: partitionIndex:-1\n"
     ]
    },
    {
     "data": {
      "text/plain": [
       "[13, -2, 3, 4, 7, 8, 9, 11]"
      ]
     },
     "execution_count": 71,
     "metadata": {},
     "output_type": "execute_result"
    }
   ],
   "source": [
    "x = QuickSort()\n",
    "x.sort([-2,3,4,7,8,9,11,13])"
   ]
  },
  {
   "cell_type": "code",
   "execution_count": 64,
   "metadata": {},
   "outputs": [
    {
     "name": "stdout",
     "output_type": "stream",
     "text": [
      "sortAlg:0,-1\n"
     ]
    },
    {
     "data": {
      "text/plain": [
       "[]"
      ]
     },
     "execution_count": 64,
     "metadata": {},
     "output_type": "execute_result"
    }
   ],
   "source": [
    "x = QuickSort()\n",
    "x.sort([])"
   ]
  },
  {
   "cell_type": "code",
   "execution_count": 65,
   "metadata": {},
   "outputs": [
    {
     "name": "stdout",
     "output_type": "stream",
     "text": [
      "sortAlg:0,10\n",
      "  partition: pivot:-100\n",
      "  partition: slidingIndex:-1\n",
      " sortAlg: partitionIndex:-1\n"
     ]
    },
    {
     "data": {
      "text/plain": [
       "[2, 3, 4, 7, 8, 9, 11, -13, 7, -5, -100]"
      ]
     },
     "execution_count": 65,
     "metadata": {},
     "output_type": "execute_result"
    }
   ],
   "source": [
    "x = QuickSort()\n",
    "x.sort([2,3,4,7,8,9,11,-13,7,-5,-100])"
   ]
  },
  {
   "cell_type": "code",
   "execution_count": 66,
   "metadata": {},
   "outputs": [
    {
     "name": "stdout",
     "output_type": "stream",
     "text": [
      "sortAlg:0,1\n",
      "  partition: pivot:1\n",
      "  partition: slidingIndex:-1\n",
      " sortAlg: partitionIndex:-1\n"
     ]
    },
    {
     "data": {
      "text/plain": [
       "[2, 1]"
      ]
     },
     "execution_count": 66,
     "metadata": {},
     "output_type": "execute_result"
    }
   ],
   "source": [
    "x = QuickSort()\n",
    "x.sort([2,1])"
   ]
  },
  {
   "cell_type": "code",
   "execution_count": 68,
   "metadata": {},
   "outputs": [
    {
     "name": "stdout",
     "output_type": "stream",
     "text": [
      "sortAlg:0,1\n",
      "  partition: pivot:1\n",
      "  partition: slidingIndex:-1\n",
      " sortAlg: partitionIndex:-1\n",
      "-1\n"
     ]
    }
   ],
   "source": [
    "x = QuickSort()\n",
    "x.sort([2,1])\n",
    "print(x.swaps)"
   ]
  },
  {
   "cell_type": "code",
   "execution_count": null,
   "metadata": {},
   "outputs": [],
   "source": []
  }
 ],
 "metadata": {
  "kernelspec": {
   "display_name": "Python 3",
   "language": "python",
   "name": "python3"
  },
  "language_info": {
   "codemirror_mode": {
    "name": "ipython",
    "version": 3
   },
   "file_extension": ".py",
   "mimetype": "text/x-python",
   "name": "python",
   "nbconvert_exporter": "python",
   "pygments_lexer": "ipython3",
   "version": "3.8.3"
  }
 },
 "nbformat": 4,
 "nbformat_minor": 4
}
