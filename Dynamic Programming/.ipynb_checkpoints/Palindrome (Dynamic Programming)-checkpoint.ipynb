{
 "cells": [
  {
   "cell_type": "markdown",
   "metadata": {},
   "source": [
    "# Palindrome"
   ]
  },
  {
   "cell_type": "markdown",
   "metadata": {},
   "source": [
    "\n",
    "* https://www.anaconda.com/products/individual/get-started\n"
   ]
  },
  {
   "cell_type": "code",
   "execution_count": 1,
   "metadata": {},
   "outputs": [],
   "source": [
    "# brute version\n",
    "def palindromeBrute(inputString):\n",
    "    import re\n",
    "    inputString = re.sub(\"[^a-zA-Z]+\",\"\",inputString).lower()\n",
    "\n",
    "    if len(inputString) <= 1:\n",
    "        return inputString\n",
    "\n",
    "    palindrome = \"\"\n",
    "\n",
    "    strLen = len(inputString)\n",
    "    for i in range(0,strLen):\n",
    "        for j in range(strLen - 1, i, -1):\n",
    "            s = inputString[i:j + 1]\n",
    "            rStr = s[::-1]\n",
    "            if s == rStr and len(s) > 1:\n",
    "                if len(s) > len(palindrome):\n",
    "                    palindrome = s\n",
    "\n",
    "    return palindrome\n"
   ]
  },
  {
   "cell_type": "code",
   "execution_count": 2,
   "metadata": {},
   "outputs": [
    {
     "data": {
      "text/plain": [
       "'babab'"
      ]
     },
     "execution_count": 2,
     "metadata": {},
     "output_type": "execute_result"
    }
   ],
   "source": [
    "palindromeBrute(\"babab\")"
   ]
  },
  {
   "cell_type": "code",
   "execution_count": 3,
   "metadata": {},
   "outputs": [
    {
     "data": {
      "text/plain": [
       "'bb'"
      ]
     },
     "execution_count": 3,
     "metadata": {},
     "output_type": "execute_result"
    }
   ],
   "source": [
    "palindromeBrute(\"cbbd\")"
   ]
  },
  {
   "cell_type": "code",
   "execution_count": 4,
   "metadata": {},
   "outputs": [
    {
     "data": {
      "text/plain": [
       "'amanaplanacanalpanama'"
      ]
     },
     "execution_count": 4,
     "metadata": {},
     "output_type": "execute_result"
    }
   ],
   "source": [
    "palindromeBrute(\"A Man, A Plan, A Canal-Panama!\")"
   ]
  },
  {
   "cell_type": "code",
   "execution_count": 7,
   "metadata": {},
   "outputs": [],
   "source": [
    "# Dynamic Programming version\n",
    "def palindrome(inputString):\n",
    "    import re\n",
    "    inputString = re.sub(\"[^a-zA-Z]+\",\"\",inputString).lower()\n",
    "\n",
    "    if len(inputString) <= 1:\n",
    "        return inputString\n",
    "\n",
    "    palindrome = \"\"\n",
    "\n",
    "    # setup DP table \n",
    "    strLen = len(inputString)\n",
    "    dp = [ [False]*strLen for i in range(strLen)]\n",
    "\n",
    "    palindrome = \"\"\n",
    "  \n",
    "    # length 1\n",
    "    for i in range(0, strLen):\n",
    "        dp[i][i]= True\n",
    "    palindrome = inputString[0]\n",
    "    \n",
    "    # length 2\n",
    "    for i in range(0, strLen-1):\n",
    "        if inputString[i] == inputString[i+1]:\n",
    "            dp[i][i+1]= True\n",
    "            palindrome = inputString[i:i+2]\n",
    "\n",
    "    # length > 2\n",
    "    j = 0\n",
    "    for k in range(2,strLen):\n",
    "        for i in range(0, strLen-k):\n",
    "            j = i + k\n",
    "            if inputString[i] == inputString[j] and dp[i+1][j-1]:\n",
    "                s = inputString[i:j+i+1]\n",
    "                dp[i][j] = True\n",
    "                if len(s) > len(palindrome):\n",
    "                    palindrome = s\n",
    "\n",
    "    return palindrome\n"
   ]
  },
  {
   "cell_type": "code",
   "execution_count": 8,
   "metadata": {},
   "outputs": [
    {
     "data": {
      "text/plain": [
       "'babab'"
      ]
     },
     "execution_count": 8,
     "metadata": {},
     "output_type": "execute_result"
    }
   ],
   "source": [
    "palindrome(\"babab\")"
   ]
  },
  {
   "cell_type": "code",
   "execution_count": 9,
   "metadata": {},
   "outputs": [
    {
     "data": {
      "text/plain": [
       "'bb'"
      ]
     },
     "execution_count": 9,
     "metadata": {},
     "output_type": "execute_result"
    }
   ],
   "source": [
    "palindrome(\"cbbd\")"
   ]
  },
  {
   "cell_type": "code",
   "execution_count": 10,
   "metadata": {},
   "outputs": [
    {
     "data": {
      "text/plain": [
       "'amanaplanacanalpanama'"
      ]
     },
     "execution_count": 10,
     "metadata": {},
     "output_type": "execute_result"
    }
   ],
   "source": [
    "palindrome(\"A Man, A Plan, A Canal-Panama!\")"
   ]
  },
  {
   "cell_type": "code",
   "execution_count": 11,
   "metadata": {},
   "outputs": [
    {
     "data": {
      "text/plain": [
       "'abba'"
      ]
     },
     "execution_count": 11,
     "metadata": {},
     "output_type": "execute_result"
    }
   ],
   "source": [
    "palindrome(\"abba\")"
   ]
  },
  {
   "cell_type": "code",
   "execution_count": null,
   "metadata": {},
   "outputs": [],
   "source": []
  }
 ],
 "metadata": {
  "kernelspec": {
   "display_name": "Python 3",
   "language": "python",
   "name": "python3"
  },
  "language_info": {
   "codemirror_mode": {
    "name": "ipython",
    "version": 3
   },
   "file_extension": ".py",
   "mimetype": "text/x-python",
   "name": "python",
   "nbconvert_exporter": "python",
   "pygments_lexer": "ipython3",
   "version": "3.8.3"
  }
 },
 "nbformat": 4,
 "nbformat_minor": 4
}
