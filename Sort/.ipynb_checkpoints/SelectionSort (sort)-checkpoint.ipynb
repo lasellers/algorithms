{
 "cells": [
  {
   "cell_type": "markdown",
   "metadata": {},
   "source": [
    "# SelectionSort"
   ]
  },
  {
   "cell_type": "code",
   "execution_count": 4,
   "metadata": {},
   "outputs": [
    {
     "ename": "SyntaxError",
     "evalue": "invalid syntax (<ipython-input-4-e204f0f15395>, line 15)",
     "output_type": "error",
     "traceback": [
      "\u001b[0;36m  File \u001b[0;32m\"<ipython-input-4-e204f0f15395>\"\u001b[0;36m, line \u001b[0;32m15\u001b[0m\n\u001b[0;31m    if v < a.minValue:\u001b[0m\n\u001b[0m    ^\u001b[0m\n\u001b[0;31mSyntaxError\u001b[0m\u001b[0;31m:\u001b[0m invalid syntax\n"
     ]
    }
   ],
   "source": [
    "class SelectionSort:\n",
    "    swaps = -1\n",
    "\n",
    "    def sort(self, arr):\n",
    "        self.swaps = 0\n",
    "        \n",
    "        partition = 0\n",
    "        end = len(arr)-1\n",
    "        \n",
    "        while partition < end:\n",
    "            sub = ratings[0:partition];\n",
    "            minV = min(ratings[0:partition])\n",
    "            index = sub.index(minV)\n",
    "            [minValue, index] = arr[partition:].reduce(lambda a, v, index:\n",
    "                if v < a.minValue:\n",
    "                    a.minValue = v\n",
    "                    a.index = partition + index\n",
    "                return a)\n",
    "#            }, {minValue: arr[partition], index: partition});\n",
    "\n",
    "            a = arr[index]\n",
    "            b = arr[partition]\n",
    "            if a < b:\n",
    "                arr[index] = b\n",
    "                arr[partition] = a\n",
    "                this.swaps+=1\n",
    "                \n",
    "            partition++\n",
    "        \n",
    "        return {\"data\":arr, \"swaps\":self.swaps}\n"
   ]
  },
  {
   "cell_type": "code",
   "execution_count": 5,
   "metadata": {},
   "outputs": [
    {
     "ename": "SyntaxError",
     "evalue": "invalid syntax (<ipython-input-5-a0f0874ce14f>, line 25)",
     "output_type": "error",
     "traceback": [
      "\u001b[0;36m  File \u001b[0;32m\"<ipython-input-5-a0f0874ce14f>\"\u001b[0;36m, line \u001b[0;32m25\u001b[0m\n\u001b[0;31m    let partition = 0;\u001b[0m\n\u001b[0m        ^\u001b[0m\n\u001b[0;31mSyntaxError\u001b[0m\u001b[0;31m:\u001b[0m invalid syntax\n"
     ]
    }
   ],
   "source": [
    "class SelectionSort:\n",
    "    swaps = -1\n",
    "\n",
    "    def sort(self, arr):\n",
    "        self.swaps = 0\n",
    "        \n",
    "        end = len(arr)-1\n",
    "        \n",
    "        swapped = True;\n",
    "        while swapped:\n",
    "            swapped = False;\n",
    "            for inner in range(0, end):\n",
    "                a = arr[inner]\n",
    "                b = arr[inner + 1]\n",
    "                if a > b:\n",
    "                    arr[inner] = b\n",
    "                    arr[inner + 1] = a\n",
    "                    self.swaps +=1\n",
    "                    swapped = True\n",
    "        \n",
    "        return {\"data\":arr, \"swaps\":self.swaps}\n",
    "    \n",
    "\n",
    "    # todo\n",
    "        let partition = 0;\n",
    "        const len = arr.length - 1;\n",
    "        do {\n",
    "            /* v2\n",
    "            let minV = arr[0];\n",
    "            let index = 0;\n",
    "            for (let i = 0; i <= partition; i++) {\n",
    "                if (arr[i] < minV) {\n",
    "                    index = i;\n",
    "                    minV = arr[i];\n",
    "                }\n",
    "            } */\n",
    "            let {minValue, index} = arr.slice(partition).reduce((a, v, index) => {\n",
    "                if (v < a.minValue) {\n",
    "                    a.minValue = v;\n",
    "                    a.index = partition + index;\n",
    "                }\n",
    "                return a;\n",
    "            }, {minValue: arr[partition], index: partition});\n",
    "\n",
    "            const a = arr[index];\n",
    "            const b = arr[partition];\n",
    "            if (a < b) {\n",
    "                arr[index] = b;\n",
    "                arr[partition] = a;\n",
    "                this.swaps++;\n",
    "            }\n",
    "        } while (++partition < len);\n"
   ]
  },
  {
   "cell_type": "code",
   "execution_count": null,
   "metadata": {},
   "outputs": [],
   "source": [
    "class SelectionSort:\n",
    "    swaps = -1\n",
    "\n",
    "    def sort(self, arr):\n",
    "        self.swaps = 0\n",
    "        \n",
    "        end = len(arr)-1\n",
    "        \n",
    "        swapped = True;\n",
    "        while swapped:\n",
    "            swapped = False;\n",
    "            for inner in range(0, end):\n",
    "                a = arr[inner]\n",
    "                b = arr[inner + 1]\n",
    "                if a > b:\n",
    "                    arr[inner] = b\n",
    "                    arr[inner + 1] = a\n",
    "                    self.swaps +=1\n",
    "                    swapped = True\n",
    "        \n",
    "        return {\"data\":arr, \"swaps\":self.swaps}\n",
    "    \n",
    "\n",
    "    # todo\n",
    "        let partition = 0;\n",
    "        const len = arr.length - 1;\n",
    "        do {\n",
    "            /* v1\n",
    "            let sub = ratings.slice(0, partition);\n",
    "            let minV = Math.min(...sub);\n",
    "            let index = sub.findIndex(el => el == minV); */\n",
    "            /* v2\n",
    "            let minV = arr[0];\n",
    "            let index = 0;\n",
    "            for (let i = 0; i <= partition; i++) {\n",
    "                if (arr[i] < minV) {\n",
    "                    index = i;\n",
    "                    minV = arr[i];\n",
    "                }\n",
    "            } */\n",
    "            /* v3 - 0..n, probably more efficient n..0\n",
    "             */\n",
    "            let {minValue, index} = arr.slice(partition).reduce((a, v, index) => {\n",
    "                if (v < a.minValue) {\n",
    "                    a.minValue = v;\n",
    "                    a.index = partition + index;\n",
    "                }\n",
    "                return a;\n",
    "            }, {minValue: arr[partition], index: partition});\n",
    "\n",
    "            const a = arr[index];\n",
    "            const b = arr[partition];\n",
    "            if (a < b) {\n",
    "                arr[index] = b;\n",
    "                arr[partition] = a;\n",
    "                this.swaps++;\n",
    "            }\n",
    "        } while (++partition < len);\n"
   ]
  },
  {
   "cell_type": "code",
   "execution_count": 22,
   "metadata": {},
   "outputs": [
    {
     "data": {
      "text/plain": [
       "{'data': [-100, -13, -5, 2, 3, 4, 7, 7, 8, 9, 11], 'swaps': 28}"
      ]
     },
     "execution_count": 22,
     "metadata": {},
     "output_type": "execute_result"
    }
   ],
   "source": [
    "x = SelectionSort()\n",
    "x.sort([2,3,4,7,8,9,11,-13,7,-5,-100])"
   ]
  },
  {
   "cell_type": "code",
   "execution_count": 23,
   "metadata": {},
   "outputs": [
    {
     "data": {
      "text/plain": [
       "{'data': [-1000, -200, -100, 1, 2, 3, 4, 5, 50, 60, 70, 80, 90, 100],\n",
       " 'swaps': 81}"
      ]
     },
     "execution_count": 23,
     "metadata": {},
     "output_type": "execute_result"
    }
   ],
   "source": [
    "x = SelectionSort()\n",
    "x.sort([100,90,80,70,60,50,1,2,3,4,5,-100,-200,-1000])"
   ]
  },
  {
   "cell_type": "code",
   "execution_count": 24,
   "metadata": {},
   "outputs": [
    {
     "data": {
      "text/plain": [
       "{'data': [-2, 3, 4, 7, 8, 9, 11, 13], 'swaps': 0}"
      ]
     },
     "execution_count": 24,
     "metadata": {},
     "output_type": "execute_result"
    }
   ],
   "source": [
    "x = SelectionSort()\n",
    "x.sort([-2,3,4,7,8,9,11,13])"
   ]
  },
  {
   "cell_type": "code",
   "execution_count": 25,
   "metadata": {},
   "outputs": [
    {
     "data": {
      "text/plain": [
       "{'data': [], 'swaps': 0}"
      ]
     },
     "execution_count": 25,
     "metadata": {},
     "output_type": "execute_result"
    }
   ],
   "source": [
    "x = SelectionSort()\n",
    "x.sort([])"
   ]
  },
  {
   "cell_type": "code",
   "execution_count": 26,
   "metadata": {},
   "outputs": [
    {
     "data": {
      "text/plain": [
       "{'data': [1, 2], 'swaps': 1}"
      ]
     },
     "execution_count": 26,
     "metadata": {},
     "output_type": "execute_result"
    }
   ],
   "source": [
    "x = SelectionSort()\n",
    "x.sort([2,1])"
   ]
  },
  {
   "cell_type": "code",
   "execution_count": 27,
   "metadata": {},
   "outputs": [
    {
     "data": {
      "text/plain": [
       "{'data': [1, 2], 'swaps': 1}"
      ]
     },
     "execution_count": 27,
     "metadata": {},
     "output_type": "execute_result"
    }
   ],
   "source": [
    "x = SelectionSort()\n",
    "x.sort([2,1])"
   ]
  },
  {
   "cell_type": "code",
   "execution_count": 32,
   "metadata": {},
   "outputs": [
    {
     "name": "stdout",
     "output_type": "stream",
     "text": [
      "[-100, -13, -5, 2, 3, 4, 7, 7, 8, 9, 11]\n",
      "28\n"
     ]
    }
   ],
   "source": [
    "x = SelectionSort()\n",
    "a = x.sort([2,3,4,7,8,9,11,-13,7,-5,-100])\n",
    "print(a['data'])\n",
    "print(a['swaps'])"
   ]
  },
  {
   "cell_type": "code",
   "execution_count": null,
   "metadata": {},
   "outputs": [],
   "source": []
  }
 ],
 "metadata": {
  "kernelspec": {
   "display_name": "Python 3",
   "language": "python",
   "name": "python3"
  },
  "language_info": {
   "codemirror_mode": {
    "name": "ipython",
    "version": 3
   },
   "file_extension": ".py",
   "mimetype": "text/x-python",
   "name": "python",
   "nbconvert_exporter": "python",
   "pygments_lexer": "ipython3",
   "version": "3.8.3"
  }
 },
 "nbformat": 4,
 "nbformat_minor": 4
}
