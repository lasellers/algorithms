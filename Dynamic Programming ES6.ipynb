{
 "cells": [
  {
   "cell_type": "code",
   "execution_count": null,
   "metadata": {},
   "outputs": [],
   "source": [
    "%%js\n",
    "function SubSetSum2(array, expectedSum = 0) {\n",
    "    function fork(i = 0, s = 0, t = []) {\n",
    "        if (s === expectedSum) {\n",
    "            result.push(t);\n",
    "            return;\n",
    "        }\n",
    "        if (i === array.length) {\n",
    "            return;\n",
    "        }\n",
    "        if (s + array[i] <= expectedSum) { // shout circuit for positive numbers only\n",
    "            fork(i + 1, s + array[i], t.concat(array[i]));\n",
    "        }\n",
    "        fork(i + 1, s, t);\n",
    "    }\n",
    "\n",
    "    var result = [];\n",
    "    fork();\n",
    "    return result;\n",
    "}\n",
    "\n"
   ]
  },
  {
   "cell_type": "code",
   "execution_count": 5,
   "metadata": {},
   "outputs": [
    {
     "name": "stdout",
     "output_type": "stream",
     "text": [
      "Hello\n"
     ]
    },
    {
     "data": {
      "text/plain": [
       "undefined"
      ]
     },
     "execution_count": 5,
     "metadata": {},
     "output_type": "execute_result"
    }
   ],
   "source": [
    "console.log('Hello')"
   ]
  },
  {
   "cell_type": "code",
   "execution_count": 1,
   "metadata": {},
   "outputs": [
    {
     "ename": "SyntaxError",
     "evalue": "Unexpected token '%'",
     "output_type": "error",
     "traceback": [
      "evalmachine.<anonymous>:1",
      "%%js",
      "^",
      "",
      "SyntaxError: Unexpected token '%'",
      "    at new Script (vm.js:88:7)",
      "    at createScript (vm.js:263:10)",
      "    at Object.runInThisContext (vm.js:311:10)",
      "    at run ([eval]:1054:15)",
      "    at onRunRequest ([eval]:888:18)",
      "    at onMessage ([eval]:848:13)",
      "    at process.emit (events.js:310:20)",
      "    at emit (internal/child_process.js:876:12)",
      "    at processTicksAndRejections (internal/process/task_queues.js:85:21)"
     ]
    }
   ],
   "source": [
    "%%js\n",
    "console.log(SubSetSum2([1,-2,0,3], 0))"
   ]
  },
  {
   "cell_type": "code",
   "execution_count": 8,
   "metadata": {},
   "outputs": [
    {
     "data": {
      "text/plain": [
       "undefined"
      ]
     },
     "execution_count": 8,
     "metadata": {},
     "output_type": "execute_result"
    }
   ],
   "source": [
    "function PascalsTriangle(n = 2) \n",
    "{\n",
    "    if(n == 1) return [1]\n",
    "    if(n == 2) return [[1,1]]\n",
    "\n",
    "    // setup DP table \n",
    "    let triangle = new Array(n).fill([])\n",
    "    for(let i=0;i<n;i++) {\n",
    "        triangle[i] = new Array(n).fill(0)\n",
    "    }\n",
    "\n",
    "\tfor(let i=0;i<n;i++) {\n",
    "\t    triangle[i][0]=1\n",
    "        triangle[i][i]=1\n",
    "\t}\n",
    "\n",
    "\t// length > 2\n",
    "\tfor(let j=2;j<n;j++) {\n",
    "        for(let i=1;i<j-2+1+1;i++) {\n",
    "            triangle[j][i] = triangle[j-1][i] + triangle[j-1][i-1] \n",
    "        }\n",
    "\t}\n",
    "\n",
    "    return triangle; \n",
    "}\n",
    "\n"
   ]
  },
  {
   "cell_type": "code",
   "execution_count": 9,
   "metadata": {},
   "outputs": [
    {
     "data": {
      "text/plain": [
       "[\n",
       "  [ 1, 0, 0, 0, 0 ],\n",
       "  [ 1, 1, 0, 0, 0 ],\n",
       "  [ 1, 2, 1, 0, 0 ],\n",
       "  [ 1, 3, 3, 1, 0 ],\n",
       "  [ 1, 4, 6, 4, 1 ]\n",
       "]"
      ]
     },
     "execution_count": 9,
     "metadata": {},
     "output_type": "execute_result"
    }
   ],
   "source": [
    "PascalsTriangle(5)"
   ]
  },
  {
   "cell_type": "code",
   "execution_count": 12,
   "metadata": {},
   "outputs": [
    {
     "data": {
      "text/plain": [
       "[\n",
       "  [\n",
       "    1, 0, 0, 0, 0,\n",
       "    0, 0, 0, 0, 0\n",
       "  ],\n",
       "  [\n",
       "    1, 1, 0, 0, 0,\n",
       "    0, 0, 0, 0, 0\n",
       "  ],\n",
       "  [\n",
       "    1, 2, 1, 0, 0,\n",
       "    0, 0, 0, 0, 0\n",
       "  ],\n",
       "  [\n",
       "    1, 3, 3, 1, 0,\n",
       "    0, 0, 0, 0, 0\n",
       "  ],\n",
       "  [\n",
       "    1, 4, 6, 4, 1,\n",
       "    0, 0, 0, 0, 0\n",
       "  ],\n",
       "  [\n",
       "    1, 5, 10, 10, 5,\n",
       "    1, 0,  0,  0, 0\n",
       "  ],\n",
       "  [\n",
       "    1, 6, 15, 20, 15,\n",
       "    6, 1,  0,  0,  0\n",
       "  ],\n",
       "  [\n",
       "     1, 7, 21, 35, 35,\n",
       "    21, 7,  1,  0,  0\n",
       "  ],\n",
       "  [\n",
       "     1,  8, 28, 56, 70,\n",
       "    56, 28,  8,  1,  0\n",
       "  ],\n",
       "  [\n",
       "      1,  9, 36, 84, 126,\n",
       "    126, 84, 36,  9,   1\n",
       "  ]\n",
       "]"
      ]
     },
     "execution_count": 12,
     "metadata": {},
     "output_type": "execute_result"
    }
   ],
   "source": [
    "PascalsTriangle(10)"
   ]
  },
  {
   "cell_type": "code",
   "execution_count": 13,
   "metadata": {},
   "outputs": [
    {
     "data": {
      "text/plain": [
       "[ [ 1, 1 ] ]"
      ]
     },
     "execution_count": 13,
     "metadata": {},
     "output_type": "execute_result"
    }
   ],
   "source": [
    "PascalsTriangle(2)"
   ]
  }
 ],
 "metadata": {
  "kernelspec": {
   "display_name": "Javascript (Node.js)",
   "language": "javascript",
   "name": "javascript"
  },
  "language_info": {
   "file_extension": ".js",
   "mimetype": "application/javascript",
   "name": "javascript",
   "version": "12.16.3"
  }
 },
 "nbformat": 4,
 "nbformat_minor": 4
}
