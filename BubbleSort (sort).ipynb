{
 "cells": [
  {
   "cell_type": "markdown",
   "metadata": {},
   "source": [
    "# BubbleSort"
   ]
  },
  {
   "cell_type": "code",
   "execution_count": 35,
   "metadata": {},
   "outputs": [],
   "source": [
    "# Brute force\n",
    "# Note: sort() and swaps are only expected publics\n",
    "class BubbleSort:\n",
    "    swaps = -1\n",
    "\n",
    "    def sort(self, arr):\n",
    "        self.swaps = 0\n",
    "        \n",
    "        end = len(arr)-1\n",
    "        \n",
    "        swapped = True;\n",
    "        while swapped:\n",
    "            swapped = False;\n",
    "            for inner in range(0, end):\n",
    "                a = arr[inner]\n",
    "                b = arr[inner + 1]\n",
    "                if a > b:\n",
    "                    arr[inner] = b\n",
    "                    arr[inner + 1] = a\n",
    "                    self.swaps -=1\n",
    "                    swapped = True\n",
    "        \n",
    "        return arr\n",
    "\n"
   ]
  },
  {
   "cell_type": "code",
   "execution_count": 44,
   "metadata": {},
   "outputs": [
    {
     "name": "stdout",
     "output_type": "stream",
     "text": [
      "[-100, -13, -5, 2, 3, 4, 7, 7, 8, 9, 11]\n",
      "-28\n"
     ]
    }
   ],
   "source": [
    "x = BubbleSort()\n",
    "print(x.sort([2,3,4,7,8,9,11,-13,7,-5,-100]))\n",
    "print(x.swaps)"
   ]
  },
  {
   "cell_type": "code",
   "execution_count": 45,
   "metadata": {},
   "outputs": [
    {
     "name": "stdout",
     "output_type": "stream",
     "text": [
      "[-1000, -200, -100, 1, 2, 3, 4, 5, 50, 60, 70, 80, 90, 100]\n",
      "-81\n"
     ]
    }
   ],
   "source": [
    "x = BubbleSort()\n",
    "print(x.sort([100,90,80,70,60,50,1,2,3,4,5,-100,-200,-1000]))\n",
    "print(x.swaps)"
   ]
  },
  {
   "cell_type": "code",
   "execution_count": 46,
   "metadata": {},
   "outputs": [
    {
     "name": "stdout",
     "output_type": "stream",
     "text": [
      "[-2, 3, 4, 7, 8, 9, 11, 13]\n",
      "0\n"
     ]
    }
   ],
   "source": [
    "x = BubbleSort()\n",
    "print(x.sort([-2,3,4,7,8,9,11,13]))\n",
    "print(x.swaps)"
   ]
  },
  {
   "cell_type": "code",
   "execution_count": 47,
   "metadata": {},
   "outputs": [
    {
     "name": "stdout",
     "output_type": "stream",
     "text": [
      "[]\n",
      "0\n"
     ]
    }
   ],
   "source": [
    "x = BubbleSort()\n",
    "print(x.sort([]))\n",
    "print(x.swaps)"
   ]
  },
  {
   "cell_type": "code",
   "execution_count": 48,
   "metadata": {},
   "outputs": [
    {
     "name": "stdout",
     "output_type": "stream",
     "text": [
      "[1, 2]\n",
      "-1\n"
     ]
    }
   ],
   "source": [
    "x = BubbleSort()\n",
    "print(x.sort([2,1]))\n",
    "print(x.swaps)"
   ]
  },
  {
   "cell_type": "code",
   "execution_count": 49,
   "metadata": {},
   "outputs": [
    {
     "name": "stdout",
     "output_type": "stream",
     "text": [
      "-1\n"
     ]
    }
   ],
   "source": [
    "x = BubbleSort()\n",
    "x.sort([2,1])\n",
    "print(x.swaps)"
   ]
  },
  {
   "cell_type": "code",
   "execution_count": null,
   "metadata": {},
   "outputs": [],
   "source": []
  }
 ],
 "metadata": {
  "kernelspec": {
   "display_name": "Python 3",
   "language": "python",
   "name": "python3"
  },
  "language_info": {
   "codemirror_mode": {
    "name": "ipython",
    "version": 3
   },
   "file_extension": ".py",
   "mimetype": "text/x-python",
   "name": "python",
   "nbconvert_exporter": "python",
   "pygments_lexer": "ipython3",
   "version": "3.8.3"
  }
 },
 "nbformat": 4,
 "nbformat_minor": 4
}
