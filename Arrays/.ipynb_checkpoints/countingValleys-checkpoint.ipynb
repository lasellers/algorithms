{
 "cells": [
  {
   "cell_type": "code",
   "execution_count": 2,
   "metadata": {},
   "outputs": [],
   "source": [
    "# TODO ...\n",
    "# steps is only \"U\" or \"D\"\n",
    "def countingValleys(steps):\n",
    "    level = 0\n",
    "    mountains = 0\n",
    "    valleys = 0\n",
    "    \n",
    "    for step in steps:\n",
    "        if step=='U':\n",
    "            level +=1\n",
    "        elif step=='D':\n",
    "            level -=1\n",
    "        if level == 0:\n",
    "            #todo\n",
    "        \n",
    "    return [max(sums),sums]\n"
   ]
  },
  {
   "cell_type": "code",
   "execution_count": 3,
   "metadata": {},
   "outputs": [
    {
     "data": {
      "text/plain": [
       "[28, [-63, -34, -9, 12, -10, 0, 28, 23, -27, -11, -2, 10, 9, 17, 25, 18]]"
      ]
     },
     "execution_count": 3,
     "metadata": {},
     "output_type": "execute_result"
    }
   ],
   "source": [
    "countingValleys([\n",
    "    [-9, -9, -9, 1, 1, 1],\n",
    "    [0, -9, 0, 4, 3, 2],\n",
    "    [-9, -9, -9, 1, 2, 3],\n",
    "    [0, 0, 8, 6, 6, 0],\n",
    "    [0, 0, 0, -2, 0, 0],\n",
    "    [0, 0, 1, 2, 4, 0]\n",
    "])"
   ]
  },
  {
   "cell_type": "code",
   "execution_count": 4,
   "metadata": {},
   "outputs": [
    {
     "data": {
      "text/plain": [
       "[19, [7, 4, 2, 0, 4, 8, 10, 8, 3, 6, 7, 6, 3, 9, 19, 14]]"
      ]
     },
     "execution_count": 4,
     "metadata": {},
     "output_type": "execute_result"
    }
   ],
   "source": [
    "countingValleys([\n",
    "    [1, 1, 1, 0, 0, 0],\n",
    "    [0, 1, 0, 0, 0, 0],\n",
    "    [1, 1, 1, 0, 0, 0],\n",
    "    [0, 0, 2, 4, 4, 0],\n",
    "    [0, 0, 0, 2, 0, 0],\n",
    "    [0, 0, 1, 2, 4, 0]\n",
    "])"
   ]
  },
  {
   "cell_type": "code",
   "execution_count": 5,
   "metadata": {},
   "outputs": [
    {
     "data": {
      "text/plain": [
       "[13, [7, 4, 2, 0, 13, 9, -6, -8, 12, 2, -5, -6, 10, 4, -15, -14]]"
      ]
     },
     "execution_count": 5,
     "metadata": {},
     "output_type": "execute_result"
    }
   ],
   "source": [
    "countingValleys([\n",
    "    [1, 1, 1, 0, 0, 0],\n",
    "    [0, 1, 0, 0, 0, 0],\n",
    "    [1, 1, 1, 0, 0, 0],\n",
    "    [0, 9, 2, -4, -4, 0],\n",
    "    [0, 0, 0, -2, 0, 0],\n",
    "    [0, 0, -1, -2, -4, 0]\n",
    "])\n"
   ]
  },
  {
   "cell_type": "code",
   "execution_count": 75,
   "metadata": {},
   "outputs": [
    {
     "data": {
      "text/plain": [
       "[7, [7, 4, 2, 0, 2, 2, 0, 0, 3, 2, 1, 0, 0, 0, 0, 0]]"
      ]
     },
     "execution_count": 75,
     "metadata": {},
     "output_type": "execute_result"
    }
   ],
   "source": [
    "countingValleys([\n",
    "    [1, 1, 1, 0, 0, 0],\n",
    "    [0, 1, 0, 0, 0, 0],\n",
    "    [1, 1, 1, 0, 0, 0],\n",
    "    [0, 0, 0, 0, 0, 0],\n",
    "    [0, 0, 0, 0, 0, 0],\n",
    "    [0, 0, 0, 0, 0, 0]\n",
    "    ])"
   ]
  }
 ],
 "metadata": {
  "kernelspec": {
   "display_name": "Python 3",
   "language": "python",
   "name": "python3"
  },
  "language_info": {
   "codemirror_mode": {
    "name": "ipython",
    "version": 3
   },
   "file_extension": ".py",
   "mimetype": "text/x-python",
   "name": "python",
   "nbconvert_exporter": "python",
   "pygments_lexer": "ipython3",
   "version": "3.8.3"
  },
  "widgets": {
   "application/vnd.jupyter.widget-state+json": {
    "state": {},
    "version_major": 2,
    "version_minor": 0
   }
  }
 },
 "nbformat": 4,
 "nbformat_minor": 4
}
