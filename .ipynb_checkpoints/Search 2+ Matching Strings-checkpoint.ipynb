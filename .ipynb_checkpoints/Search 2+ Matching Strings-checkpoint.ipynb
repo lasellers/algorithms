{
 "cells": [
  {
   "cell_type": "markdown",
   "metadata": {},
   "source": [
    "# Search 2+ Matching Strings"
   ]
  },
  {
   "cell_type": "code",
   "execution_count": 202,
   "metadata": {},
   "outputs": [],
   "source": [
    "def searching(inputString):\n",
    "    import re\n",
    "\n",
    "    inputString = re.sub(\"[^a-zA-z0-9]\", \"\", inputString)\n",
    "\n",
    "    N = len(inputString)\n",
    "\n",
    "    answer = \"\"\n",
    "    answerRange = []\n",
    "\n",
    "    dict = {}\n",
    "    for i in range(0,N+1):\n",
    "        for j in range(i+2,N+1):\n",
    "            s = inputString[i:j]\n",
    "            if s in dict:\n",
    "                if len(s) > len(answer):\n",
    "                    answer = s\n",
    "                    answerRange=[i,j, dict[s][0],dict[s][1]]\n",
    "                    #print(str(i)+\",\"+str(j)+\" \"+s)\n",
    "            else:\n",
    "                dict[s] = [i,j]\n",
    " \n",
    "    #print(dict)\n",
    "    return [\"False\" if answer == \"\" else \"True\", answer, answerRange]\n"
   ]
  },
  {
   "cell_type": "code",
   "execution_count": 203,
   "metadata": {},
   "outputs": [
    {
     "data": {
      "text/plain": [
       "['True', 'aaaaaaaaaaaaaaaaaaa', [1, 20, 0, 19]]"
      ]
     },
     "execution_count": 203,
     "metadata": {},
     "output_type": "execute_result"
    }
   ],
   "source": [
    "searching('aaaaaaaaaaaaaaaaaaaa')"
   ]
  },
  {
   "cell_type": "code",
   "execution_count": 204,
   "metadata": {},
   "outputs": [
    {
     "data": {
      "text/plain": [
       "['True', 'z3', [8, 10, 1, 3]]"
      ]
     },
     "execution_count": 204,
     "metadata": {},
     "output_type": "execute_result"
    }
   ],
   "source": [
    "searching('fz3kab32z3')"
   ]
  },
  {
   "cell_type": "code",
   "execution_count": 205,
   "metadata": {},
   "outputs": [
    {
     "data": {
      "text/plain": [
       "['True', 'zzz', [12, 15, 6, 9]]"
      ]
     },
     "execution_count": 205,
     "metadata": {},
     "output_type": "execute_result"
    }
   ],
   "source": [
    "searching('sskfsszzz976zzz')"
   ]
  },
  {
   "cell_type": "code",
   "execution_count": 206,
   "metadata": {},
   "outputs": [
    {
     "data": {
      "text/plain": [
       "['False', '', []]"
      ]
     },
     "execution_count": 206,
     "metadata": {},
     "output_type": "execute_result"
    }
   ],
   "source": [
    "searching('lorem ipsum')"
   ]
  },
  {
   "cell_type": "code",
   "execution_count": 207,
   "metadata": {},
   "outputs": [
    {
     "data": {
      "text/plain": [
       "['True', 'is', [20, 22, 13, 15]]"
      ]
     },
     "execution_count": 207,
     "metadata": {},
     "output_type": "execute_result"
    }
   ],
   "source": [
    "searching('Semper sapien nisl mauris faucibus praesent neque in in.')"
   ]
  },
  {
   "cell_type": "code",
   "execution_count": 208,
   "metadata": {},
   "outputs": [
    {
     "data": {
      "text/plain": [
       "['False', '', []]"
      ]
     },
     "execution_count": 208,
     "metadata": {},
     "output_type": "execute_result"
    }
   ],
   "source": [
    "searching(' ')"
   ]
  },
  {
   "cell_type": "code",
   "execution_count": 209,
   "metadata": {},
   "outputs": [
    {
     "data": {
      "text/plain": [
       "['False', '', []]"
      ]
     },
     "execution_count": 209,
     "metadata": {},
     "output_type": "execute_result"
    }
   ],
   "source": [
    "searching('')"
   ]
  },
  {
   "cell_type": "code",
   "execution_count": null,
   "metadata": {},
   "outputs": [],
   "source": []
  }
 ],
 "metadata": {
  "kernelspec": {
   "display_name": "Python 3",
   "language": "python",
   "name": "python3"
  },
  "language_info": {
   "codemirror_mode": {
    "name": "ipython",
    "version": 3
   },
   "file_extension": ".py",
   "mimetype": "text/x-python",
   "name": "python",
   "nbconvert_exporter": "python",
   "pygments_lexer": "ipython3",
   "version": "3.8.3"
  }
 },
 "nbformat": 4,
 "nbformat_minor": 4
}
