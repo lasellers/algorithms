{
 "cells": [
  {
   "cell_type": "markdown",
   "metadata": {},
   "source": [
    "# MergeSort"
   ]
  },
  {
   "cell_type": "code",
   "execution_count": 21,
   "metadata": {},
   "outputs": [],
   "source": [
    "# Brute force\n",
    "# Note: sort() and swaps are only expected publics\n",
    "class BubbleSort:\n",
    "    swaps = -1\n",
    "\n",
    "    def sort(self, arr):\n",
    "        self.swaps = 0\n",
    "        \n",
    "        end = len(arr)-1\n",
    "        \n",
    "        swapped = True;\n",
    "        while swapped:\n",
    "            swapped = False;\n",
    "            for inner in range(0, end):\n",
    "                a = arr[inner]\n",
    "                b = arr[inner + 1]\n",
    "                if a > b:\n",
    "                    arr[inner] = b\n",
    "                    arr[inner + 1] = a\n",
    "                    self.swaps +=1\n",
    "                    swapped = True\n",
    "        \n",
    "        return {\"data\":arr, \"swaps\":self.swaps}\n",
    "    \n",
    "\n",
    "/*\n",
    "package com.intrafoundation;\n",
    "\n",
    "// note: still refactoring this ...\n",
    "public class MergeSort extends BaseSort {\n",
    "\n",
    "    public void sort(int[] arr) {\n",
    "        if (arr.length <= 1)\n",
    "            return;\n",
    "\n",
    "        swaps = 0;\n",
    "        mergeSort(arr, arr.length);\n",
    "    }\n",
    "\n",
    "    public void mergeSort(int[] arr, final int len) {\n",
    "        if (len < 2) {\n",
    "            return;\n",
    "        }\n",
    "\n",
    "        final int mid = len / 2;\n",
    "        final int lenmid = len - mid;\n",
    "\n",
    "        int[] l = new int[mid];\n",
    "        int[] r = new int[lenmid];\n",
    "\n",
    "        System.arraycopy(arr, 0, l, 0, mid);\n",
    "        if (lenmid >= 0)\n",
    "        for (int i = mid; i < n; i++) {\n",
    "            r[i - mid] = arr[i];\n",
    "        }\n",
    "\n",
    "mergeSort(l, mid);\n",
    "mergeSort(r, lenmid);\n",
    "\n",
    "merge(arr, l, r, mid, lenmid);\n",
    "swaps++;\n",
    "}\n",
    "\n",
    "public static void merge(\n",
    "    int[] a, int[] l, int[] r, final int left, final int right\n",
    ") {\n",
    "    int i = 0, j = 0, k = 0;\n",
    "    while (i < left && j < right) {\n",
    "        if (l[i] <= r[j]) {\n",
    "            a[k++] = l[i++];\n",
    "        } else {\n",
    "            a[k++] = r[j++];\n",
    "        }\n",
    "    }\n",
    "    while (i < left) {\n",
    "        a[k++] = l[i++];\n",
    "    }\n",
    "    while (j < right) {\n",
    "        a[k++] = r[j++];\n",
    "    }\n",
    "}\n",
    "\n",
    "}\n",
    "\n",
    "\n",
    "*/\n"
   ]
  },
  {
   "cell_type": "code",
   "execution_count": 22,
   "metadata": {},
   "outputs": [
    {
     "data": {
      "text/plain": [
       "{'data': [-100, -13, -5, 2, 3, 4, 7, 7, 8, 9, 11], 'swaps': 28}"
      ]
     },
     "execution_count": 22,
     "metadata": {},
     "output_type": "execute_result"
    }
   ],
   "source": [
    "x = BubbleSort()\n",
    "x.sort([2,3,4,7,8,9,11,-13,7,-5,-100])"
   ]
  },
  {
   "cell_type": "code",
   "execution_count": 23,
   "metadata": {},
   "outputs": [
    {
     "data": {
      "text/plain": [
       "{'data': [-1000, -200, -100, 1, 2, 3, 4, 5, 50, 60, 70, 80, 90, 100],\n",
       " 'swaps': 81}"
      ]
     },
     "execution_count": 23,
     "metadata": {},
     "output_type": "execute_result"
    }
   ],
   "source": [
    "x = BubbleSort()\n",
    "x.sort([100,90,80,70,60,50,1,2,3,4,5,-100,-200,-1000])"
   ]
  },
  {
   "cell_type": "code",
   "execution_count": 24,
   "metadata": {},
   "outputs": [
    {
     "data": {
      "text/plain": [
       "{'data': [-2, 3, 4, 7, 8, 9, 11, 13], 'swaps': 0}"
      ]
     },
     "execution_count": 24,
     "metadata": {},
     "output_type": "execute_result"
    }
   ],
   "source": [
    "x = BubbleSort()\n",
    "x.sort([-2,3,4,7,8,9,11,13])"
   ]
  },
  {
   "cell_type": "code",
   "execution_count": 25,
   "metadata": {},
   "outputs": [
    {
     "data": {
      "text/plain": [
       "{'data': [], 'swaps': 0}"
      ]
     },
     "execution_count": 25,
     "metadata": {},
     "output_type": "execute_result"
    }
   ],
   "source": [
    "x = BubbleSort()\n",
    "x.sort([])"
   ]
  },
  {
   "cell_type": "code",
   "execution_count": 26,
   "metadata": {},
   "outputs": [
    {
     "data": {
      "text/plain": [
       "{'data': [1, 2], 'swaps': 1}"
      ]
     },
     "execution_count": 26,
     "metadata": {},
     "output_type": "execute_result"
    }
   ],
   "source": [
    "x = BubbleSort()\n",
    "x.sort([2,1])"
   ]
  },
  {
   "cell_type": "code",
   "execution_count": 27,
   "metadata": {},
   "outputs": [
    {
     "data": {
      "text/plain": [
       "{'data': [1, 2], 'swaps': 1}"
      ]
     },
     "execution_count": 27,
     "metadata": {},
     "output_type": "execute_result"
    }
   ],
   "source": [
    "x = BubbleSort()\n",
    "x.sort([2,1])"
   ]
  },
  {
   "cell_type": "code",
   "execution_count": 32,
   "metadata": {},
   "outputs": [
    {
     "name": "stdout",
     "output_type": "stream",
     "text": [
      "[-100, -13, -5, 2, 3, 4, 7, 7, 8, 9, 11]\n",
      "28\n"
     ]
    }
   ],
   "source": [
    "x = BubbleSort()\n",
    "a = x.sort([2,3,4,7,8,9,11,-13,7,-5,-100])\n",
    "print(a['data'])\n",
    "print(a['swaps'])"
   ]
  },
  {
   "cell_type": "code",
   "execution_count": null,
   "metadata": {},
   "outputs": [],
   "source": []
  }
 ],
 "metadata": {
  "kernelspec": {
   "display_name": "Python 3",
   "language": "python",
   "name": "python3"
  },
  "language_info": {
   "codemirror_mode": {
    "name": "ipython",
    "version": 3
   },
   "file_extension": ".py",
   "mimetype": "text/x-python",
   "name": "python",
   "nbconvert_exporter": "python",
   "pygments_lexer": "ipython3",
   "version": "3.8.3"
  }
 },
 "nbformat": 4,
 "nbformat_minor": 4
}
