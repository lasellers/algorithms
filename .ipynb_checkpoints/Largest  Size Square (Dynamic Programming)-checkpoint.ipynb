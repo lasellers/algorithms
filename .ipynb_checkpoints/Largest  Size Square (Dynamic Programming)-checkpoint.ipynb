{
 "cells": [
  {
   "cell_type": "markdown",
   "metadata": {},
   "source": [
    "# Largest Size Square"
   ]
  },
  {
   "cell_type": "markdown",
   "metadata": {},
   "source": [
    "* Largest Size Square\n"
   ]
  },
  {
   "cell_type": "code",
   "execution_count": 1,
   "metadata": {},
   "outputs": [],
   "source": [
    "# brute version\n",
    "def lssBrute(arr):\n",
    "    H = len(arr)\n",
    "    W = len(arr[0])\n",
    "\n",
    "    if H == 0 or W == 0:\n",
    "        return 0\n",
    "    \n",
    "    # setup DP table \n",
    "\n",
    "    answer = 0\n",
    "\n",
    "    # todo\n",
    "    \n",
    "    return answer\n"
   ]
  },
  {
   "cell_type": "code",
   "execution_count": 42,
   "metadata": {},
   "outputs": [
    {
     "data": {
      "text/plain": [
       "0"
      ]
     },
     "execution_count": 42,
     "metadata": {},
     "output_type": "execute_result"
    }
   ],
   "source": [
    "lssBrute([\n",
    "    [1,0,1,0,0,0,0],\n",
    "    [1,0,1,1,1,1,1],\n",
    "    [1,1,1,1,1,1,1],\n",
    "    [1,0,0,1,0,0,0]\n",
    "])"
   ]
  },
  {
   "cell_type": "code",
   "execution_count": 34,
   "metadata": {},
   "outputs": [],
   "source": [
    "# Dynamic Programming version\n",
    "def lss(arr):\n",
    "    H = len(arr)\n",
    "    W = len(arr[0])\n",
    "\n",
    "    if H == 0 or W == 0:\n",
    "        return 0\n",
    "    \n",
    "    # setup DP table \n",
    "    dp = [ [0]*(W) for i in range(H)]\n",
    "\n",
    "    for col in range(0, W):\n",
    "        dp[0][col] = arr[0][col]\n",
    "\n",
    "    for row in range(0, H):\n",
    "        dp[row][0] = arr[row][0]\n",
    "    print('\\n'.join(['%i: %s' % (n, dp[n]) for n in range(len(dp))]))\n",
    "\n",
    "    for row in range(1, H):\n",
    "        for col in range(1, W):\n",
    "            if arr[row][col] == 1:\n",
    "                dp[row][col] = min(dp[row-1][col],dp[row][col-1],dp[row-1][col-1])+1\n",
    "            else:\n",
    "                dp[row][col]=0\n",
    "    print('\\n'.join(['%i: %s' % (n, dp[n]) for n in range(len(dp))]))\n",
    "\n",
    "    #\n",
    "    max_of_s = dp[0][0] \n",
    "    max_i = 0\n",
    "    max_j = 0\n",
    "    for i in range(H): \n",
    "        for j in range(W): \n",
    "            if (max_of_s < dp[i][j]): \n",
    "                max_of_s = dp[i][j] \n",
    "                max_i = i \n",
    "                max_j = j \n",
    "    answer = dp[max_i][max_j]\n",
    "  \n",
    "    print(\"Maximum size sub-matrix is: \") \n",
    "    for i in range(max_i, max_i - max_of_s, -1): \n",
    "        for j in range(max_j, max_j - max_of_s, -1): \n",
    "            print (arr[i][j], end = \" \") \n",
    "        print(\"\") \n",
    "        \n",
    "    return answer\n"
   ]
  },
  {
   "cell_type": "code",
   "execution_count": 35,
   "metadata": {},
   "outputs": [
    {
     "name": "stdout",
     "output_type": "stream",
     "text": [
      "0: [1, 1]\n",
      "1: [1, 0]\n",
      "0: [1, 1]\n",
      "1: [1, 2]\n",
      "Maximum size sub-matrix is: \n",
      "1 1 \n",
      "1 1 \n"
     ]
    },
    {
     "data": {
      "text/plain": [
       "2"
      ]
     },
     "execution_count": 35,
     "metadata": {},
     "output_type": "execute_result"
    }
   ],
   "source": [
    "lss([\n",
    "    [1, 1],\n",
    "    [1, 1]\n",
    "]) #2"
   ]
  },
  {
   "cell_type": "code",
   "execution_count": 36,
   "metadata": {},
   "outputs": [
    {
     "name": "stdout",
     "output_type": "stream",
     "text": [
      "0: [1, 1, 1, 1, 1, 1, 1]\n",
      "1: [1, 0, 0, 0, 0, 0, 0]\n",
      "2: [1, 0, 0, 0, 0, 0, 0]\n",
      "3: [1, 0, 0, 0, 0, 0, 0]\n",
      "0: [1, 1, 1, 1, 1, 1, 1]\n",
      "1: [1, 2, 2, 2, 2, 2, 2]\n",
      "2: [1, 2, 3, 3, 3, 3, 3]\n",
      "3: [1, 2, 3, 4, 4, 4, 4]\n",
      "Maximum size sub-matrix is: \n",
      "1 1 1 1 \n",
      "1 1 1 1 \n",
      "1 1 1 1 \n",
      "1 1 1 1 \n"
     ]
    },
    {
     "data": {
      "text/plain": [
       "4"
      ]
     },
     "execution_count": 36,
     "metadata": {},
     "output_type": "execute_result"
    }
   ],
   "source": [
    "lss([\n",
    "    [1,1,1,1,1,1,1],\n",
    "    [1,1,1,1,1,1,1],\n",
    "    [1,1,1,1,1,1,1],\n",
    "    [1,1,1,1,1,1,1],\n",
    "])"
   ]
  },
  {
   "cell_type": "code",
   "execution_count": 37,
   "metadata": {},
   "outputs": [
    {
     "name": "stdout",
     "output_type": "stream",
     "text": [
      "0: [1, 0, 1, 0, 0]\n",
      "1: [1, 0, 0, 0, 0]\n",
      "2: [1, 0, 0, 0, 0]\n",
      "0: [1, 0, 1, 0, 0]\n",
      "1: [1, 0, 1, 1, 1]\n",
      "2: [1, 1, 1, 2, 2]\n",
      "Maximum size sub-matrix is: \n",
      "1 1 \n",
      "1 1 \n"
     ]
    },
    {
     "data": {
      "text/plain": [
       "2"
      ]
     },
     "execution_count": 37,
     "metadata": {},
     "output_type": "execute_result"
    }
   ],
   "source": [
    "lss([\n",
    "    [1,0,1,0,0],\n",
    "    [1,0,1,1,1],\n",
    "    [1,1,1,1,1]\n",
    "])"
   ]
  },
  {
   "cell_type": "code",
   "execution_count": 38,
   "metadata": {},
   "outputs": [
    {
     "name": "stdout",
     "output_type": "stream",
     "text": [
      "0: [1, 0, 1, 0]\n",
      "1: [1, 0, 0, 0]\n",
      "2: [1, 0, 0, 0]\n",
      "3: [1, 0, 0, 0]\n",
      "4: [1, 0, 0, 0]\n",
      "5: [1, 0, 0, 0]\n",
      "0: [1, 0, 1, 0]\n",
      "1: [1, 0, 1, 1]\n",
      "2: [1, 1, 1, 2]\n",
      "3: [1, 0, 1, 2]\n",
      "4: [1, 1, 1, 2]\n",
      "5: [1, 0, 0, 1]\n",
      "Maximum size sub-matrix is: \n",
      "1 1 \n",
      "1 1 \n"
     ]
    },
    {
     "data": {
      "text/plain": [
       "1"
      ]
     },
     "execution_count": 38,
     "metadata": {},
     "output_type": "execute_result"
    }
   ],
   "source": [
    "lss([\n",
    "    [1,0,1,0],\n",
    "    [1,0,1,1],\n",
    "    [1,1,1,1],\n",
    "    [1,0,1,1],\n",
    "    [1,1,1,1],\n",
    "    [1,0,0,1]\n",
    "])"
   ]
  },
  {
   "cell_type": "code",
   "execution_count": 39,
   "metadata": {},
   "outputs": [
    {
     "name": "stdout",
     "output_type": "stream",
     "text": [
      "0: [1, 0, 1, 0, 0, 0, 0]\n",
      "1: [1, 0, 0, 0, 0, 0, 0]\n",
      "2: [1, 0, 0, 0, 0, 0, 0]\n",
      "3: [1, 0, 0, 0, 0, 0, 0]\n",
      "0: [1, 0, 1, 0, 0, 0, 0]\n",
      "1: [1, 0, 1, 1, 1, 1, 1]\n",
      "2: [1, 1, 1, 2, 2, 2, 2]\n",
      "3: [1, 0, 0, 1, 0, 0, 0]\n",
      "Maximum size sub-matrix is: \n",
      "1 1 \n",
      "1 1 \n"
     ]
    },
    {
     "data": {
      "text/plain": [
       "0"
      ]
     },
     "execution_count": 39,
     "metadata": {},
     "output_type": "execute_result"
    }
   ],
   "source": [
    "lss([\n",
    "    [1,0,1,0,0,0,0],\n",
    "    [1,0,1,1,1,1,1],\n",
    "    [1,1,1,1,1,1,1],\n",
    "    [1,0,0,1,0,0,0]\n",
    "])"
   ]
  }
 ],
 "metadata": {
  "kernelspec": {
   "display_name": "Python 3",
   "language": "python",
   "name": "python3"
  },
  "language_info": {
   "codemirror_mode": {
    "name": "ipython",
    "version": 3
   },
   "file_extension": ".py",
   "mimetype": "text/x-python",
   "name": "python",
   "nbconvert_exporter": "python",
   "pygments_lexer": "ipython3",
   "version": "3.8.3"
  }
 },
 "nbformat": 4,
 "nbformat_minor": 4
}
