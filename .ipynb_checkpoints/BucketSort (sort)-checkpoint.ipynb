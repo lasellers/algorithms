{
 "cells": [
  {
   "cell_type": "markdown",
   "metadata": {},
   "source": [
    "# BucketSort"
   ]
  },
  {
   "cell_type": "code",
   "execution_count": 21,
   "metadata": {},
   "outputs": [],
   "source": [
    "# Brute force\n",
    "# Note: sort() and swaps are only expected publics\n",
    "class BubbleSort:\n",
    "    swaps = -1\n",
    "\n",
    "    def sort(self, arr):\n",
    "        self.swaps = 0\n",
    "        \n",
    "        end = len(arr)-1\n",
    "        \n",
    "        swapped = True;\n",
    "        while swapped:\n",
    "            swapped = False;\n",
    "            for inner in range(0, end):\n",
    "                a = arr[inner]\n",
    "                b = arr[inner + 1]\n",
    "                if a > b:\n",
    "                    arr[inner] = b\n",
    "                    arr[inner + 1] = a\n",
    "                    self.swaps +=1\n",
    "                    swapped = True\n",
    "        \n",
    "        return {\"data\":arr, \"swaps\":self.swaps}\n",
    "    \n",
    "    \n",
    "    //  tsc BucketSort.ts && nodejs BucketSort.js\n",
    "import {BaseSort} from \"./BaseSort\";\n",
    "\n",
    "export class BucketSort extends BaseSort {\n",
    "\n",
    "    sort = (arr: Array<number>): void => {\n",
    "        this.swaps = 0;\n",
    "\n",
    "        const len: number = arr.length;\n",
    "\n",
    "        /* let maxV: number = 0;\n",
    "        for (let index: number = 0; index < len; index++) {\n",
    "            let a: number = arr[index];\n",
    "            if (a > maxV) maxV = a;\n",
    "        } */\n",
    "        let maxV = arr.reduce(\n",
    "            (accumulator: number, currentValue: number) => {\n",
    "                return (accumulator < currentValue) ? accumulator : currentValue;\n",
    "            }\n",
    "            , 0);\n",
    "\n",
    "        let bucket: Array<number> = [];\n",
    "        for (let index: number = 0; index < len; index++) {\n",
    "            const a: number = arr[index];\n",
    "            bucket[a] = a;\n",
    "        }\n",
    "\n",
    "        const bucketLen: number = bucket.length - 1;\n",
    "        const arr2 = bucket.filter((value) => {\n",
    "            return value > 0;\n",
    "        });\n",
    "        arr.forEach((value, index) => {\n",
    "            arr[index] = 0;\n",
    "        });\n",
    "        arr2.forEach((value, index) => {\n",
    "            arr[index] = value;\n",
    "        });\n",
    "    }\n",
    "\n",
    "}\n",
    "\n"
   ]
  },
  {
   "cell_type": "code",
   "execution_count": 22,
   "metadata": {},
   "outputs": [
    {
     "data": {
      "text/plain": [
       "{'data': [-100, -13, -5, 2, 3, 4, 7, 7, 8, 9, 11], 'swaps': 28}"
      ]
     },
     "execution_count": 22,
     "metadata": {},
     "output_type": "execute_result"
    }
   ],
   "source": [
    "x = BubbleSort()\n",
    "x.sort([2,3,4,7,8,9,11,-13,7,-5,-100])"
   ]
  },
  {
   "cell_type": "code",
   "execution_count": 23,
   "metadata": {},
   "outputs": [
    {
     "data": {
      "text/plain": [
       "{'data': [-1000, -200, -100, 1, 2, 3, 4, 5, 50, 60, 70, 80, 90, 100],\n",
       " 'swaps': 81}"
      ]
     },
     "execution_count": 23,
     "metadata": {},
     "output_type": "execute_result"
    }
   ],
   "source": [
    "x = BubbleSort()\n",
    "x.sort([100,90,80,70,60,50,1,2,3,4,5,-100,-200,-1000])"
   ]
  },
  {
   "cell_type": "code",
   "execution_count": 24,
   "metadata": {},
   "outputs": [
    {
     "data": {
      "text/plain": [
       "{'data': [-2, 3, 4, 7, 8, 9, 11, 13], 'swaps': 0}"
      ]
     },
     "execution_count": 24,
     "metadata": {},
     "output_type": "execute_result"
    }
   ],
   "source": [
    "x = BubbleSort()\n",
    "x.sort([-2,3,4,7,8,9,11,13])"
   ]
  },
  {
   "cell_type": "code",
   "execution_count": 25,
   "metadata": {},
   "outputs": [
    {
     "data": {
      "text/plain": [
       "{'data': [], 'swaps': 0}"
      ]
     },
     "execution_count": 25,
     "metadata": {},
     "output_type": "execute_result"
    }
   ],
   "source": [
    "x = BubbleSort()\n",
    "x.sort([])"
   ]
  },
  {
   "cell_type": "code",
   "execution_count": 26,
   "metadata": {},
   "outputs": [
    {
     "data": {
      "text/plain": [
       "{'data': [1, 2], 'swaps': 1}"
      ]
     },
     "execution_count": 26,
     "metadata": {},
     "output_type": "execute_result"
    }
   ],
   "source": [
    "x = BubbleSort()\n",
    "x.sort([2,1])"
   ]
  },
  {
   "cell_type": "code",
   "execution_count": 27,
   "metadata": {},
   "outputs": [
    {
     "data": {
      "text/plain": [
       "{'data': [1, 2], 'swaps': 1}"
      ]
     },
     "execution_count": 27,
     "metadata": {},
     "output_type": "execute_result"
    }
   ],
   "source": [
    "x = BubbleSort()\n",
    "x.sort([2,1])"
   ]
  },
  {
   "cell_type": "code",
   "execution_count": 32,
   "metadata": {},
   "outputs": [
    {
     "name": "stdout",
     "output_type": "stream",
     "text": [
      "[-100, -13, -5, 2, 3, 4, 7, 7, 8, 9, 11]\n",
      "28\n"
     ]
    }
   ],
   "source": [
    "x = BubbleSort()\n",
    "a = x.sort([2,3,4,7,8,9,11,-13,7,-5,-100])\n",
    "print(a['data'])\n",
    "print(a['swaps'])"
   ]
  },
  {
   "cell_type": "code",
   "execution_count": null,
   "metadata": {},
   "outputs": [],
   "source": []
  }
 ],
 "metadata": {
  "kernelspec": {
   "display_name": "Python 3",
   "language": "python",
   "name": "python3"
  },
  "language_info": {
   "codemirror_mode": {
    "name": "ipython",
    "version": 3
   },
   "file_extension": ".py",
   "mimetype": "text/x-python",
   "name": "python",
   "nbconvert_exporter": "python",
   "pygments_lexer": "ipython3",
   "version": "3.8.3"
  }
 },
 "nbformat": 4,
 "nbformat_minor": 4
}
