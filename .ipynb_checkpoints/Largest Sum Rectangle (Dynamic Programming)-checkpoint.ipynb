{
 "cells": [
  {
   "cell_type": "markdown",
   "metadata": {},
   "source": [
    "# Largest Maximum Rectangle"
   ]
  },
  {
   "cell_type": "markdown",
   "metadata": {},
   "source": [
    "* Largest Maximum Rectangle\n",
    "* Largest Sum Rectangle\n",
    "* Largest Maximal Rectangle"
   ]
  },
  {
   "cell_type": "code",
   "execution_count": 41,
   "metadata": {},
   "outputs": [],
   "source": [
    "# brute version\n",
    "def lmrBrute(arr):\n",
    "    H = len(arr)\n",
    "    W = len(arr[0])\n",
    "\n",
    "    if H == 0 or W == 0:\n",
    "        return 0\n",
    "    \n",
    "    # setup DP table \n",
    "\n",
    "    answer = 0\n",
    "\n",
    "    # todo\n",
    "    \n",
    "    return answer\n"
   ]
  },
  {
   "cell_type": "code",
   "execution_count": 42,
   "metadata": {},
   "outputs": [
    {
     "data": {
      "text/plain": [
       "0"
      ]
     },
     "execution_count": 42,
     "metadata": {},
     "output_type": "execute_result"
    }
   ],
   "source": [
    "lmrBrute([\n",
    "    [1,0,1,0,0,0,0],\n",
    "    [1,0,1,1,1,1,1],\n",
    "    [1,1,1,1,1,1,1],\n",
    "    [1,0,0,1,0,0,0]\n",
    "])"
   ]
  },
  {
   "cell_type": "code",
   "execution_count": 53,
   "metadata": {},
   "outputs": [],
   "source": [
    "# Dynamic Programming version\n",
    "def lmr(arr):\n",
    "    H = len(arr)\n",
    "    W = len(arr[0])\n",
    "\n",
    "    if H == 0 or W == 0:\n",
    "        return 0\n",
    "    \n",
    "    # setup DP table \n",
    "    dp = [ [0]*(W+1) for i in range(H+1)]\n",
    "\n",
    "    answer = 0\n",
    "\n",
    "    for row in range(1, H):\n",
    "        for col in range(1, W):\n",
    "            if arr[row][col] == 1:\n",
    "                dp[row][col] = 1\n",
    "            #if row > 0 and col > 0:\n",
    "            dp[row][col] += min(dp[row-1][col],dp[row][col-1],dp[row-1][col-1])\n",
    "            answer = max(answer, dp[row][col])\n",
    "\n",
    "    return answer\n"
   ]
  },
  {
   "cell_type": "code",
   "execution_count": 54,
   "metadata": {},
   "outputs": [
    {
     "data": {
      "text/plain": [
       "0"
      ]
     },
     "execution_count": 54,
     "metadata": {},
     "output_type": "execute_result"
    }
   ],
   "source": [
    "lmr([\n",
    "    [2, 2],\n",
    "    [2, 2]\n",
    "])"
   ]
  },
  {
   "cell_type": "code",
   "execution_count": 55,
   "metadata": {},
   "outputs": [
    {
     "data": {
      "text/plain": [
       "2"
      ]
     },
     "execution_count": 55,
     "metadata": {},
     "output_type": "execute_result"
    }
   ],
   "source": [
    "lmr([\n",
    "    [1,0,1,0,0],\n",
    "    [1,0,1,1,1],\n",
    "    [1,1,1,1,1]\n",
    "])"
   ]
  },
  {
   "cell_type": "code",
   "execution_count": 56,
   "metadata": {},
   "outputs": [
    {
     "data": {
      "text/plain": [
       "4"
      ]
     },
     "execution_count": 56,
     "metadata": {},
     "output_type": "execute_result"
    }
   ],
   "source": [
    "lmr([\n",
    "    [1,0,1,0,0,0],\n",
    "    [1,0,1,1,1,1],\n",
    "    [1,1,1,1,1,1],\n",
    "    [1,0,1,1,1,1],\n",
    "    [1,1,1,1,1,1],\n",
    "    [1,0,0,1,0,0]\n",
    "])"
   ]
  },
  {
   "cell_type": "code",
   "execution_count": 49,
   "metadata": {},
   "outputs": [
    {
     "data": {
      "text/plain": [
       "2"
      ]
     },
     "execution_count": 49,
     "metadata": {},
     "output_type": "execute_result"
    }
   ],
   "source": [
    "lmr([\n",
    "    [1,0,1,0],\n",
    "    [1,0,1,1],\n",
    "    [1,1,1,1],\n",
    "    [1,0,1,1],\n",
    "    [1,1,1,1],\n",
    "    [1,0,0,1]\n",
    "])"
   ]
  },
  {
   "cell_type": "code",
   "execution_count": 50,
   "metadata": {},
   "outputs": [
    {
     "data": {
      "text/plain": [
       "2"
      ]
     },
     "execution_count": 50,
     "metadata": {},
     "output_type": "execute_result"
    }
   ],
   "source": [
    "lmr([\n",
    "    [1,0,1,0,0,0,0],\n",
    "    [1,0,1,1,1,1,1],\n",
    "    [1,1,1,1,1,1,1],\n",
    "    [1,0,0,1,0,0,0]\n",
    "])"
   ]
  }
 ],
 "metadata": {
  "kernelspec": {
   "display_name": "Python 3",
   "language": "python",
   "name": "python3"
  },
  "language_info": {
   "codemirror_mode": {
    "name": "ipython",
    "version": 3
   },
   "file_extension": ".py",
   "mimetype": "text/x-python",
   "name": "python",
   "nbconvert_exporter": "python",
   "pygments_lexer": "ipython3",
   "version": "3.8.3"
  }
 },
 "nbformat": 4,
 "nbformat_minor": 4
}
