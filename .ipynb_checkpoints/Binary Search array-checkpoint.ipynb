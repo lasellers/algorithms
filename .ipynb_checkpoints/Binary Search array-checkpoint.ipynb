{
 "cells": [
  {
   "cell_type": "markdown",
   "metadata": {},
   "source": [
    "# \"Binary Search array\""
   ]
  },
  {
   "cell_type": "markdown",
   "metadata": {},
   "source": [
    "## This is a test\n",
    "* Hello\n",
    "* Hello 2\n"
   ]
  },
  {
   "cell_type": "code",
   "execution_count": null,
   "metadata": {},
   "outputs": [],
   "source": [
    "# O(n), O(n/2)\n",
    "def searchLinear(arr, target):\n",
    "    index = 0\n",
    "    for el in arr:\n",
    "        if el == target: \n",
    "            return index\n",
    "        index = index+1\n",
    " \n",
    "    return -1"
   ]
  },
  {
   "cell_type": "code",
   "execution_count": null,
   "metadata": {},
   "outputs": [],
   "source": [
    "searchLinear([-2,3,4,7,8,9,11,13], 11)"
   ]
  },
  {
   "cell_type": "code",
   "execution_count": 1,
   "metadata": {},
   "outputs": [],
   "source": [
    "#\n",
    "def searchDP(arr, target):\n",
    "    L = 0\n",
    "    R = len(arr) - 1\n",
    "    \n",
    "    if R < 1:\n",
    "        return -1\n",
    "\n",
    "    while 1:\n",
    "        index = L+((R-L)//2)\n",
    "        print(str(L)+\" \"+str(R)+\" \"+str(index))\n",
    "        if target == arr[index] :\n",
    "            return index\n",
    "\n",
    "        if target > arr[index] :\n",
    "            L = index + 1\n",
    "        elif target < arr[index] :\n",
    "            R = index - 1\n",
    "        if L >= R:\n",
    "            return -1\n",
    "\n",
    "        print(str(L)+\" \"+str(R)+\" \"+str(index))\n",
    "    "
   ]
  },
  {
   "cell_type": "code",
   "execution_count": 3,
   "metadata": {},
   "outputs": [
    {
     "name": "stdout",
     "output_type": "stream",
     "text": [
      "0 7 3\n",
      "4 7 3\n",
      "4 7 5\n",
      "6 7 5\n",
      "6 7 6\n"
     ]
    },
    {
     "data": {
      "text/plain": [
       "6"
      ]
     },
     "execution_count": 3,
     "metadata": {},
     "output_type": "execute_result"
    }
   ],
   "source": [
    "searchDP([-2,3,4,7,8,9,11,13], 11)"
   ]
  },
  {
   "cell_type": "code",
   "execution_count": 2,
   "metadata": {},
   "outputs": [
    {
     "name": "stdout",
     "output_type": "stream",
     "text": [
      "0 7 3\n",
      "4 7 3\n",
      "4 7 5\n",
      "6 7 5\n",
      "6 7 6\n"
     ]
    },
    {
     "data": {
      "text/plain": [
       "-1"
      ]
     },
     "execution_count": 2,
     "metadata": {},
     "output_type": "execute_result"
    }
   ],
   "source": [
    "searchDP([-2,3,4,7,8,9,11,13], 123)"
   ]
  },
  {
   "cell_type": "code",
   "execution_count": 4,
   "metadata": {},
   "outputs": [
    {
     "data": {
      "text/plain": [
       "-1"
      ]
     },
     "execution_count": 4,
     "metadata": {},
     "output_type": "execute_result"
    }
   ],
   "source": [
    "searchDP([1], 1)"
   ]
  },
  {
   "cell_type": "code",
   "execution_count": 5,
   "metadata": {},
   "outputs": [
    {
     "data": {
      "text/plain": [
       "-1"
      ]
     },
     "execution_count": 5,
     "metadata": {},
     "output_type": "execute_result"
    }
   ],
   "source": [
    "searchDP([], 0)"
   ]
  }
 ],
 "metadata": {
  "kernelspec": {
   "display_name": "Python 3",
   "language": "python",
   "name": "python3"
  },
  "language_info": {
   "codemirror_mode": {
    "name": "ipython",
    "version": 3
   },
   "file_extension": ".py",
   "mimetype": "text/x-python",
   "name": "python",
   "nbconvert_exporter": "python",
   "pygments_lexer": "ipython3",
   "version": "3.8.5"
  }
 },
 "nbformat": 4,
 "nbformat_minor": 4
}
