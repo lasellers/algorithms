{
 "cells": [
  {
   "cell_type": "code",
   "execution_count": 20,
   "metadata": {},
   "outputs": [],
   "source": [
    "# class in function\n",
    "def myclass(x):\n",
    "    class Cat:\n",
    "        def __init__(self, name):\n",
    "            self.name = name\n",
    "            \n",
    "        def print_value(self):\n",
    "            print(x)\n",
    "\n",
    "        def print_name(self):\n",
    "            print(self.name)\n",
    "\n",
    "    return Cat\n"
   ]
  },
  {
   "cell_type": "code",
   "execution_count": 50,
   "metadata": {},
   "outputs": [
    {
     "data": {
      "text/plain": [
       "__main__.myclass.<locals>.Cat"
      ]
     },
     "execution_count": 50,
     "metadata": {},
     "output_type": "execute_result"
    }
   ],
   "source": [
    "myclass(1)"
   ]
  },
  {
   "cell_type": "code",
   "execution_count": 27,
   "metadata": {},
   "outputs": [
    {
     "name": "stdout",
     "output_type": "stream",
     "text": [
      "12\n",
      "Meow\n",
      "Meow\n"
     ]
    }
   ],
   "source": [
    "cls = myclass(12)\n",
    "c = cls(\"Meow\")\n",
    "c.print_value()\n",
    "c.print_name()\n",
    "print(c.name)\n",
    "# print(c.x)\n"
   ]
  },
  {
   "cell_type": "code",
   "execution_count": 29,
   "metadata": {},
   "outputs": [
    {
     "name": "stdout",
     "output_type": "stream",
     "text": [
      "0\n",
      "2\n",
      "4\n",
      "6\n",
      "8\n",
      "10\n",
      "12\n",
      "14\n",
      "16\n",
      "18\n",
      "18\n"
     ]
    }
   ],
   "source": [
    "# function in a for loop\n",
    "for i in range(10):\n",
    "    def show():\n",
    "        print(i*2)\n",
    "    \n",
    "    show()\n",
    "show()"
   ]
  },
  {
   "cell_type": "code",
   "execution_count": 33,
   "metadata": {},
   "outputs": [],
   "source": [
    "# return function instead of variable\n",
    "def func1(x):\n",
    "    if x == 1:\n",
    "        def rv():\n",
    "            print(\"X is 1\")\n",
    "    else:\n",
    "        def rv():\n",
    "            print(\"X is not 1\")\n",
    "    \n",
    "    return rv\n"
   ]
  },
  {
   "cell_type": "code",
   "execution_count": 36,
   "metadata": {},
   "outputs": [
    {
     "name": "stdout",
     "output_type": "stream",
     "text": [
      "X is 1\n"
     ]
    }
   ],
   "source": [
    "new_func1 = func1(1)\n",
    "new_func1()"
   ]
  },
  {
   "cell_type": "code",
   "execution_count": 37,
   "metadata": {},
   "outputs": [
    {
     "name": "stdout",
     "output_type": "stream",
     "text": [
      "X is not 1\n"
     ]
    }
   ],
   "source": [
    "new_func1 = func1(2)\n",
    "new_func1()"
   ]
  },
  {
   "cell_type": "code",
   "execution_count": 38,
   "metadata": {},
   "outputs": [
    {
     "name": "stdout",
     "output_type": "stream",
     "text": [
      "X is not 1\n"
     ]
    },
    {
     "data": {
      "text/plain": [
       "94185786585952"
      ]
     },
     "execution_count": 38,
     "metadata": {},
     "output_type": "execute_result"
    }
   ],
   "source": [
    "new_func1 = func1(2)\n",
    "id(new_func1())"
   ]
  },
  {
   "cell_type": "code",
   "execution_count": 40,
   "metadata": {},
   "outputs": [],
   "source": [
    "# return function instead of variable\n",
    "import inspect\n",
    "\n",
    "def func2(x):\n",
    "    if x == 1:\n",
    "        def rv():\n",
    "            print(\"X is 1\")\n",
    "    else:\n",
    "        def rv():\n",
    "            print(\"X is not 1\")\n",
    "    \n",
    "    return rv\n"
   ]
  },
  {
   "cell_type": "code",
   "execution_count": 42,
   "metadata": {},
   "outputs": [
    {
     "name": "stdout",
     "output_type": "stream",
     "text": [
      "X is not 1\n"
     ]
    },
    {
     "data": {
      "text/plain": [
       "[('__bool__',\n",
       "  <method-wrapper '__bool__' of NoneType object at 0x55a9565a3360>),\n",
       " ('__class__', NoneType),\n",
       " ('__delattr__',\n",
       "  <method-wrapper '__delattr__' of NoneType object at 0x55a9565a3360>),\n",
       " ('__dir__', <function NoneType.__dir__(self, /)>),\n",
       " ('__doc__', None),\n",
       " ('__eq__', <method-wrapper '__eq__' of NoneType object at 0x55a9565a3360>),\n",
       " ('__format__', <function NoneType.__format__(self, format_spec, /)>),\n",
       " ('__ge__', <method-wrapper '__ge__' of NoneType object at 0x55a9565a3360>),\n",
       " ('__getattribute__',\n",
       "  <method-wrapper '__getattribute__' of NoneType object at 0x55a9565a3360>),\n",
       " ('__gt__', <method-wrapper '__gt__' of NoneType object at 0x55a9565a3360>),\n",
       " ('__hash__',\n",
       "  <method-wrapper '__hash__' of NoneType object at 0x55a9565a3360>),\n",
       " ('__init__',\n",
       "  <method-wrapper '__init__' of NoneType object at 0x55a9565a3360>),\n",
       " ('__init_subclass__', <function NoneType.__init_subclass__>),\n",
       " ('__le__', <method-wrapper '__le__' of NoneType object at 0x55a9565a3360>),\n",
       " ('__lt__', <method-wrapper '__lt__' of NoneType object at 0x55a9565a3360>),\n",
       " ('__ne__', <method-wrapper '__ne__' of NoneType object at 0x55a9565a3360>),\n",
       " ('__new__', <function NoneType.__new__(*args, **kwargs)>),\n",
       " ('__reduce__', <function NoneType.__reduce__(self, /)>),\n",
       " ('__reduce_ex__', <function NoneType.__reduce_ex__(self, protocol, /)>),\n",
       " ('__repr__',\n",
       "  <method-wrapper '__repr__' of NoneType object at 0x55a9565a3360>),\n",
       " ('__setattr__',\n",
       "  <method-wrapper '__setattr__' of NoneType object at 0x55a9565a3360>),\n",
       " ('__sizeof__', <function NoneType.__sizeof__(self, /)>),\n",
       " ('__str__', <method-wrapper '__str__' of NoneType object at 0x55a9565a3360>),\n",
       " ('__subclasshook__', <function NoneType.__subclasshook__>)]"
      ]
     },
     "execution_count": 42,
     "metadata": {},
     "output_type": "execute_result"
    }
   ],
   "source": [
    "new_func2 = func2(2)\n",
    "inspect.getmembers(new_func2())"
   ]
  },
  {
   "cell_type": "code",
   "execution_count": 44,
   "metadata": {},
   "outputs": [
    {
     "data": {
      "text/plain": [
       "'        def rv():\\n            print(\"X is not 1\")\\n'"
      ]
     },
     "execution_count": 44,
     "metadata": {},
     "output_type": "execute_result"
    }
   ],
   "source": [
    "new_func2 = func2(2)\n",
    "inspect.getsource(new_func2)"
   ]
  },
  {
   "cell_type": "code",
   "execution_count": 52,
   "metadata": {},
   "outputs": [
    {
     "name": "stdout",
     "output_type": "stream",
     "text": [
      "X is not 1\n"
     ]
    }
   ],
   "source": [
    "new_func2 = func2(2)\n",
    "inspect.getdoc(new_func2())"
   ]
  },
  {
   "cell_type": "code",
   "execution_count": null,
   "metadata": {},
   "outputs": [],
   "source": []
  },
  {
   "cell_type": "code",
   "execution_count": null,
   "metadata": {},
   "outputs": [],
   "source": []
  },
  {
   "cell_type": "code",
   "execution_count": null,
   "metadata": {},
   "outputs": [],
   "source": []
  },
  {
   "cell_type": "code",
   "execution_count": null,
   "metadata": {},
   "outputs": [],
   "source": []
  },
  {
   "cell_type": "code",
   "execution_count": 45,
   "metadata": {},
   "outputs": [
    {
     "data": {
      "text/plain": [
       "'class Queue:\\n    \\'\\'\\'Create a queue object with a given maximum size.\\n\\n    If maxsize is <= 0, the queue size is infinite.\\n    \\'\\'\\'\\n\\n    def __init__(self, maxsize=0):\\n        self.maxsize = maxsize\\n        self._init(maxsize)\\n\\n        # mutex must be held whenever the queue is mutating.  All methods\\n        # that acquire mutex must release it before returning.  mutex\\n        # is shared between the three conditions, so acquiring and\\n        # releasing the conditions also acquires and releases mutex.\\n        self.mutex = threading.Lock()\\n\\n        # Notify not_empty whenever an item is added to the queue; a\\n        # thread waiting to get is notified then.\\n        self.not_empty = threading.Condition(self.mutex)\\n\\n        # Notify not_full whenever an item is removed from the queue;\\n        # a thread waiting to put is notified then.\\n        self.not_full = threading.Condition(self.mutex)\\n\\n        # Notify all_tasks_done whenever the number of unfinished tasks\\n        # drops to zero; thread waiting to join() is notified to resume\\n        self.all_tasks_done = threading.Condition(self.mutex)\\n        self.unfinished_tasks = 0\\n\\n    def task_done(self):\\n        \\'\\'\\'Indicate that a formerly enqueued task is complete.\\n\\n        Used by Queue consumer threads.  For each get() used to fetch a task,\\n        a subsequent call to task_done() tells the queue that the processing\\n        on the task is complete.\\n\\n        If a join() is currently blocking, it will resume when all items\\n        have been processed (meaning that a task_done() call was received\\n        for every item that had been put() into the queue).\\n\\n        Raises a ValueError if called more times than there were items\\n        placed in the queue.\\n        \\'\\'\\'\\n        with self.all_tasks_done:\\n            unfinished = self.unfinished_tasks - 1\\n            if unfinished <= 0:\\n                if unfinished < 0:\\n                    raise ValueError(\\'task_done() called too many times\\')\\n                self.all_tasks_done.notify_all()\\n            self.unfinished_tasks = unfinished\\n\\n    def join(self):\\n        \\'\\'\\'Blocks until all items in the Queue have been gotten and processed.\\n\\n        The count of unfinished tasks goes up whenever an item is added to the\\n        queue. The count goes down whenever a consumer thread calls task_done()\\n        to indicate the item was retrieved and all work on it is complete.\\n\\n        When the count of unfinished tasks drops to zero, join() unblocks.\\n        \\'\\'\\'\\n        with self.all_tasks_done:\\n            while self.unfinished_tasks:\\n                self.all_tasks_done.wait()\\n\\n    def qsize(self):\\n        \\'\\'\\'Return the approximate size of the queue (not reliable!).\\'\\'\\'\\n        with self.mutex:\\n            return self._qsize()\\n\\n    def empty(self):\\n        \\'\\'\\'Return True if the queue is empty, False otherwise (not reliable!).\\n\\n        This method is likely to be removed at some point.  Use qsize() == 0\\n        as a direct substitute, but be aware that either approach risks a race\\n        condition where a queue can grow before the result of empty() or\\n        qsize() can be used.\\n\\n        To create code that needs to wait for all queued tasks to be\\n        completed, the preferred technique is to use the join() method.\\n        \\'\\'\\'\\n        with self.mutex:\\n            return not self._qsize()\\n\\n    def full(self):\\n        \\'\\'\\'Return True if the queue is full, False otherwise (not reliable!).\\n\\n        This method is likely to be removed at some point.  Use qsize() >= n\\n        as a direct substitute, but be aware that either approach risks a race\\n        condition where a queue can shrink before the result of full() or\\n        qsize() can be used.\\n        \\'\\'\\'\\n        with self.mutex:\\n            return 0 < self.maxsize <= self._qsize()\\n\\n    def put(self, item, block=True, timeout=None):\\n        \\'\\'\\'Put an item into the queue.\\n\\n        If optional args \\'block\\' is true and \\'timeout\\' is None (the default),\\n        block if necessary until a free slot is available. If \\'timeout\\' is\\n        a non-negative number, it blocks at most \\'timeout\\' seconds and raises\\n        the Full exception if no free slot was available within that time.\\n        Otherwise (\\'block\\' is false), put an item on the queue if a free slot\\n        is immediately available, else raise the Full exception (\\'timeout\\'\\n        is ignored in that case).\\n        \\'\\'\\'\\n        with self.not_full:\\n            if self.maxsize > 0:\\n                if not block:\\n                    if self._qsize() >= self.maxsize:\\n                        raise Full\\n                elif timeout is None:\\n                    while self._qsize() >= self.maxsize:\\n                        self.not_full.wait()\\n                elif timeout < 0:\\n                    raise ValueError(\"\\'timeout\\' must be a non-negative number\")\\n                else:\\n                    endtime = time() + timeout\\n                    while self._qsize() >= self.maxsize:\\n                        remaining = endtime - time()\\n                        if remaining <= 0.0:\\n                            raise Full\\n                        self.not_full.wait(remaining)\\n            self._put(item)\\n            self.unfinished_tasks += 1\\n            self.not_empty.notify()\\n\\n    def get(self, block=True, timeout=None):\\n        \\'\\'\\'Remove and return an item from the queue.\\n\\n        If optional args \\'block\\' is true and \\'timeout\\' is None (the default),\\n        block if necessary until an item is available. If \\'timeout\\' is\\n        a non-negative number, it blocks at most \\'timeout\\' seconds and raises\\n        the Empty exception if no item was available within that time.\\n        Otherwise (\\'block\\' is false), return an item if one is immediately\\n        available, else raise the Empty exception (\\'timeout\\' is ignored\\n        in that case).\\n        \\'\\'\\'\\n        with self.not_empty:\\n            if not block:\\n                if not self._qsize():\\n                    raise Empty\\n            elif timeout is None:\\n                while not self._qsize():\\n                    self.not_empty.wait()\\n            elif timeout < 0:\\n                raise ValueError(\"\\'timeout\\' must be a non-negative number\")\\n            else:\\n                endtime = time() + timeout\\n                while not self._qsize():\\n                    remaining = endtime - time()\\n                    if remaining <= 0.0:\\n                        raise Empty\\n                    self.not_empty.wait(remaining)\\n            item = self._get()\\n            self.not_full.notify()\\n            return item\\n\\n    def put_nowait(self, item):\\n        \\'\\'\\'Put an item into the queue without blocking.\\n\\n        Only enqueue the item if a free slot is immediately available.\\n        Otherwise raise the Full exception.\\n        \\'\\'\\'\\n        return self.put(item, block=False)\\n\\n    def get_nowait(self):\\n        \\'\\'\\'Remove and return an item from the queue without blocking.\\n\\n        Only get an item if one is immediately available. Otherwise\\n        raise the Empty exception.\\n        \\'\\'\\'\\n        return self.get(block=False)\\n\\n    # Override these methods to implement other queue organizations\\n    # (e.g. stack or priority queue).\\n    # These will only be called with appropriate locks held\\n\\n    # Initialize the queue representation\\n    def _init(self, maxsize):\\n        self.queue = deque()\\n\\n    def _qsize(self):\\n        return len(self.queue)\\n\\n    # Put a new item in the queue\\n    def _put(self, item):\\n        self.queue.append(item)\\n\\n    # Get an item from the queue\\n    def _get(self):\\n        return self.queue.popleft()\\n'"
      ]
     },
     "execution_count": 45,
     "metadata": {},
     "output_type": "execute_result"
    }
   ],
   "source": [
    "import inspect\n",
    "from queue import Queue\n",
    "\n",
    "inspect.getsource(Queue)"
   ]
  },
  {
   "cell_type": "code",
   "execution_count": null,
   "metadata": {},
   "outputs": [],
   "source": []
  }
 ],
 "metadata": {
  "kernelspec": {
   "display_name": "Python 3",
   "language": "python",
   "name": "python3"
  },
  "language_info": {
   "codemirror_mode": {
    "name": "ipython",
    "version": 3
   },
   "file_extension": ".py",
   "mimetype": "text/x-python",
   "name": "python",
   "nbconvert_exporter": "python",
   "pygments_lexer": "ipython3",
   "version": "3.8.3"
  }
 },
 "nbformat": 4,
 "nbformat_minor": 4
}
