{
 "cells": [
  {
   "cell_type": "markdown",
   "metadata": {},
   "source": [
    "# Longest Comon Sequence"
   ]
  },
  {
   "cell_type": "code",
   "execution_count": 1,
   "metadata": {},
   "outputs": [],
   "source": [
    "# brute version\n",
    "def lcsBrute(arr1, arr2):\n",
    "    N1 = len(arr1)\n",
    "    N2 = len(arr2)\n",
    "    if N1 <= 1 or N2 <= 1:\n",
    "        return [0,\"\"]\n",
    "\n",
    "    sequence = \"\"\n",
    "    \n",
    "    #todo\n",
    "   \n",
    "    return [0, \"\"]\n"
   ]
  },
  {
   "cell_type": "code",
   "execution_count": 2,
   "metadata": {},
   "outputs": [
    {
     "data": {
      "text/plain": [
       "[0, '']"
      ]
     },
     "execution_count": 2,
     "metadata": {},
     "output_type": "execute_result"
    }
   ],
   "source": [
    "lcsBrute('abcdgh','aedfhr')"
   ]
  },
  {
   "cell_type": "code",
   "execution_count": 3,
   "metadata": {},
   "outputs": [
    {
     "data": {
      "text/plain": [
       "[0, '']"
      ]
     },
     "execution_count": 3,
     "metadata": {},
     "output_type": "execute_result"
    }
   ],
   "source": [
    "lcsBrute('aggtab','gxtxayb')"
   ]
  },
  {
   "cell_type": "code",
   "execution_count": 20,
   "metadata": {},
   "outputs": [
    {
     "data": {
      "text/plain": [
       "[0, '']"
      ]
     },
     "execution_count": 20,
     "metadata": {},
     "output_type": "execute_result"
    }
   ],
   "source": [
    "lcsBrute('','')"
   ]
  },
  {
   "cell_type": "code",
   "execution_count": 21,
   "metadata": {},
   "outputs": [
    {
     "data": {
      "text/plain": [
       "[0, '']"
      ]
     },
     "execution_count": 21,
     "metadata": {},
     "output_type": "execute_result"
    }
   ],
   "source": [
    "lcsBrute('aab','azb')"
   ]
  },
  {
   "cell_type": "code",
   "execution_count": 35,
   "metadata": {},
   "outputs": [],
   "source": [
    "# Dynamic Programming version\n",
    "def lcs(arr1, arr2):\n",
    "    N1 = len(arr1)\n",
    "    N2 = len(arr2)\n",
    "    if N1 <= 1 or N2 <= 1:\n",
    "        return [0,\"\"]\n",
    "\n",
    "    # define DP table [y][x]\n",
    "    W = len(arr2)\n",
    "    H = len(arr1)\n",
    "    dp = [ [0]*(W+1) for i in range(H+1)]\n",
    "\n",
    "    # populate dp table\n",
    "    for i in range(0, H):\n",
    "        dp[i][0] = 0\n",
    "    for j in range(0, W):\n",
    "        dp[0][j] = 0\n",
    "\n",
    "    # if last char match, drop last char from both, 1 + lcs(\"a\",\"b\")\n",
    "    # if not, try two lcs dropping char from first and one from last , ie\n",
    "    # max(lcs(\"a\",\"az\"),lcsv(\"ab\",\"a\"))\n",
    "    for i in range(1, H):\n",
    "        for j in range(1, W):\n",
    "            if arr1[i-1] == arr2[j-1]:\n",
    "                dp[i][j] = dp[i-1][j-1] + 1 # diag up left + 1\n",
    "            else:\n",
    "                dp[i][j] = max(dp[i-1][j], dp[i][j-1]) # max up 1 or left 1\n",
    "    print('\\n'.join(['%i: %s' % (n, dp[n]) for n in range(len(dp))]))\n",
    "    \n",
    "    # get sequence from dp table\n",
    "    index = dp[H-1][W-1]\n",
    "    sequence = [\"\"]*(index+1)\n",
    "    print(index)\n",
    "    \n",
    "    i = H-1\n",
    "    j = W-1\n",
    "    while i > 0 and j > 0 and index > 0:\n",
    "        if arr1[i-1] == arr2[j-1]:\n",
    "            sequence[index-1] = arr1[i-1]\n",
    "            i -= 1\n",
    "            j -= 1\n",
    "            index -= 1\n",
    "        elif dp[i-1][j] > dp[i][j-1]: # if arr(y-1) > arr(x-1), go up\n",
    "            i -= 1\n",
    "        else: # otherwise go left\n",
    "            j -= 1\n",
    "    print(sequence)\n",
    "\n",
    "    #print('\\n'.join(['%i: %s' % (n, dp[n]) for n in range(len(dp))]))\n",
    "    \n",
    "    return [dp[H-1][W-1], \"\".join(sequence)]\n"
   ]
  },
  {
   "cell_type": "code",
   "execution_count": 36,
   "metadata": {},
   "outputs": [
    {
     "name": "stdout",
     "output_type": "stream",
     "text": [
      "0: [0, 0, 0, 0, 0, 0, 0]\n",
      "1: [0, 1, 1, 1, 1, 1, 0]\n",
      "2: [0, 1, 1, 1, 1, 1, 0]\n",
      "3: [0, 1, 1, 1, 1, 1, 0]\n",
      "4: [0, 1, 1, 2, 2, 2, 0]\n",
      "5: [0, 1, 1, 2, 2, 2, 0]\n",
      "6: [0, 0, 0, 0, 0, 0, 0]\n",
      "2\n",
      "['a', 'd', '']\n"
     ]
    },
    {
     "data": {
      "text/plain": [
       "[2, 'ad']"
      ]
     },
     "execution_count": 36,
     "metadata": {},
     "output_type": "execute_result"
    }
   ],
   "source": [
    "lcs('abcdgh','aedfhr') #ad"
   ]
  },
  {
   "cell_type": "code",
   "execution_count": 29,
   "metadata": {},
   "outputs": [
    {
     "name": "stdout",
     "output_type": "stream",
     "text": [
      "0: [0, 0, 0, 0, 0, 0, 0, 0]\n",
      "1: [0, 0, 0, 0, 0, 1, 1, 0]\n",
      "2: [0, 1, 1, 1, 1, 1, 1, 0]\n",
      "3: [0, 1, 1, 1, 1, 1, 1, 0]\n",
      "4: [0, 1, 1, 2, 2, 2, 2, 0]\n",
      "5: [0, 1, 1, 2, 2, 3, 3, 0]\n",
      "6: [0, 0, 0, 0, 0, 0, 0, 0]\n",
      "3\n",
      "['g', 't', 'a', '']\n"
     ]
    },
    {
     "data": {
      "text/plain": [
       "[3, 'gta']"
      ]
     },
     "execution_count": 29,
     "metadata": {},
     "output_type": "execute_result"
    }
   ],
   "source": [
    "lcs('aggtab','gxtxayb') #gta"
   ]
  },
  {
   "cell_type": "code",
   "execution_count": 20,
   "metadata": {},
   "outputs": [
    {
     "data": {
      "text/plain": [
       "[0, '']"
      ]
     },
     "execution_count": 20,
     "metadata": {},
     "output_type": "execute_result"
    }
   ],
   "source": [
    "lcs('','') #"
   ]
  },
  {
   "cell_type": "code",
   "execution_count": 28,
   "metadata": {},
   "outputs": [
    {
     "name": "stdout",
     "output_type": "stream",
     "text": [
      "0: [0, 0, 0, 0]\n",
      "1: [0, 1, 1, 0]\n",
      "2: [0, 1, 1, 0]\n",
      "3: [0, 0, 0, 0]\n",
      "1\n",
      "['a', '']\n"
     ]
    },
    {
     "data": {
      "text/plain": [
       "[1, 'a']"
      ]
     },
     "execution_count": 28,
     "metadata": {},
     "output_type": "execute_result"
    }
   ],
   "source": [
    "lcs('aab','azb') #ab"
   ]
  },
  {
   "cell_type": "code",
   "execution_count": 31,
   "metadata": {},
   "outputs": [
    {
     "name": "stdout",
     "output_type": "stream",
     "text": [
      "0: [0, 0, 0, 0, 0, 0, 0, 0, 0, 0, 0, 0, 0, 0, 0, 0, 0, 0, 0]\n",
      "1: [0, 1, 1, 1, 1, 1, 1, 1, 1, 1, 1, 1, 1, 1, 1, 1, 1, 1, 0]\n",
      "2: [0, 1, 2, 2, 2, 2, 2, 2, 2, 2, 2, 2, 2, 2, 2, 2, 2, 2, 0]\n",
      "3: [0, 1, 2, 3, 3, 3, 3, 3, 3, 3, 3, 3, 3, 3, 3, 3, 3, 3, 0]\n",
      "4: [0, 1, 2, 3, 4, 4, 4, 4, 4, 4, 4, 4, 4, 4, 4, 4, 4, 4, 0]\n",
      "5: [0, 1, 2, 3, 4, 5, 5, 5, 5, 5, 5, 5, 5, 5, 5, 5, 5, 5, 0]\n",
      "6: [0, 1, 2, 3, 4, 5, 6, 6, 6, 6, 6, 6, 6, 6, 6, 6, 6, 6, 0]\n",
      "7: [0, 1, 2, 3, 4, 5, 6, 7, 7, 7, 7, 7, 7, 7, 7, 7, 7, 7, 0]\n",
      "8: [0, 1, 2, 3, 4, 5, 6, 7, 8, 8, 8, 8, 8, 8, 8, 8, 8, 8, 0]\n",
      "9: [0, 1, 2, 3, 4, 5, 6, 7, 8, 9, 9, 9, 9, 9, 9, 9, 9, 9, 0]\n",
      "10: [0, 1, 2, 3, 4, 5, 6, 7, 8, 9, 10, 10, 10, 10, 10, 10, 10, 10, 0]\n",
      "11: [0, 1, 2, 3, 4, 5, 6, 7, 8, 9, 10, 11, 11, 11, 11, 11, 11, 11, 0]\n",
      "12: [0, 1, 2, 3, 4, 5, 6, 7, 8, 9, 10, 11, 12, 12, 12, 12, 12, 12, 0]\n",
      "13: [0, 1, 2, 3, 4, 5, 6, 7, 8, 9, 10, 11, 12, 13, 13, 13, 13, 13, 0]\n",
      "14: [0, 1, 2, 3, 4, 5, 6, 7, 8, 9, 10, 11, 12, 13, 14, 14, 14, 14, 0]\n",
      "15: [0, 1, 2, 3, 4, 5, 6, 7, 8, 9, 10, 11, 12, 13, 14, 15, 15, 15, 0]\n",
      "16: [0, 1, 2, 3, 4, 5, 6, 7, 8, 9, 10, 11, 12, 13, 14, 15, 15, 15, 0]\n",
      "17: [0, 1, 2, 3, 4, 5, 6, 7, 8, 9, 10, 11, 12, 13, 14, 15, 15, 15, 0]\n",
      "18: [0, 0, 0, 0, 0, 0, 0, 0, 0, 0, 0, 0, 0, 0, 0, 0, 0, 0, 0]\n",
      "15\n",
      "['t', 'h', 'i', 's', 'i', 's', 'a', 's', 't', 'o', 'r', 'y', 'o', 'f', 'a', '']\n"
     ]
    },
    {
     "data": {
      "text/plain": [
       "[15, 'thisisastoryofa']"
      ]
     },
     "execution_count": 31,
     "metadata": {},
     "output_type": "execute_result"
    }
   ],
   "source": [
    "lcs('thisisastoryofacat','thisisastoryofadog') #thisisastoryofa"
   ]
  },
  {
   "cell_type": "code",
   "execution_count": 37,
   "metadata": {},
   "outputs": [
    {
     "name": "stdout",
     "output_type": "stream",
     "text": [
      "0: [0, 0, 0, 0, 0, 0, 0, 0, 0, 0, 0, 0, 0, 0, 0, 0, 0, 0, 0]\n",
      "1: [0, 1, 1, 1, 1, 1, 1, 1, 1, 1, 1, 1, 1, 1, 1, 1, 1, 1, 0]\n",
      "2: [0, 1, 2, 2, 2, 2, 2, 2, 2, 2, 2, 2, 2, 2, 2, 2, 2, 2, 0]\n",
      "3: [0, 1, 2, 2, 2, 2, 2, 3, 3, 3, 3, 3, 3, 3, 3, 3, 3, 3, 0]\n",
      "4: [0, 1, 2, 2, 2, 2, 2, 3, 3, 4, 4, 4, 4, 4, 4, 4, 4, 4, 0]\n",
      "5: [0, 1, 2, 3, 3, 3, 3, 3, 3, 4, 4, 4, 4, 4, 4, 4, 4, 4, 0]\n",
      "6: [0, 1, 2, 3, 4, 4, 4, 4, 4, 4, 4, 4, 4, 4, 4, 4, 4, 4, 0]\n",
      "7: [0, 1, 2, 3, 4, 4, 4, 5, 5, 5, 5, 5, 5, 5, 5, 5, 5, 5, 0]\n",
      "8: [0, 1, 2, 3, 4, 4, 5, 5, 6, 6, 6, 6, 6, 6, 6, 6, 6, 6, 0]\n",
      "9: [0, 1, 2, 3, 4, 4, 5, 5, 6, 7, 7, 7, 7, 7, 7, 7, 7, 7, 0]\n",
      "10: [0, 1, 2, 3, 4, 4, 5, 5, 6, 7, 8, 8, 8, 8, 8, 8, 8, 8, 0]\n",
      "11: [0, 1, 2, 3, 4, 4, 5, 5, 6, 7, 8, 9, 9, 9, 9, 9, 9, 9, 0]\n",
      "12: [0, 1, 2, 3, 4, 4, 5, 5, 6, 7, 8, 9, 10, 10, 10, 10, 10, 10, 0]\n",
      "13: [0, 1, 2, 3, 4, 4, 5, 5, 6, 7, 8, 9, 10, 11, 11, 11, 11, 11, 0]\n",
      "14: [0, 1, 2, 3, 4, 4, 5, 5, 6, 7, 8, 9, 10, 11, 12, 12, 12, 12, 0]\n",
      "15: [0, 1, 2, 3, 4, 4, 5, 6, 6, 7, 8, 9, 10, 11, 12, 13, 13, 13, 0]\n",
      "16: [0, 1, 2, 3, 4, 4, 5, 6, 6, 7, 8, 9, 10, 11, 12, 13, 14, 14, 0]\n",
      "17: [0, 1, 2, 3, 4, 4, 5, 6, 6, 7, 8, 9, 10, 11, 12, 13, 14, 15, 0]\n",
      "18: [0, 0, 0, 0, 0, 0, 0, 0, 0, 0, 0, 0, 0, 0, 0, 0, 0, 0, 0]\n",
      "15\n",
      "['t', 'h', 'i', 's', 'a', 's', 't', 'o', 'r', 'y', 'o', 'f', 'a', 'c', 'a', '']\n"
     ]
    },
    {
     "data": {
      "text/plain": [
       "[15, 'thisastoryofaca']"
      ]
     },
     "execution_count": 37,
     "metadata": {},
     "output_type": "execute_result"
    }
   ],
   "source": [
    "lcs('thatisastoryofacat','thisisastoryofacat') #thisastoryofacat ???"
   ]
  }
 ],
 "metadata": {
  "kernelspec": {
   "display_name": "Python 3",
   "language": "python",
   "name": "python3"
  },
  "language_info": {
   "codemirror_mode": {
    "name": "ipython",
    "version": 3
   },
   "file_extension": ".py",
   "mimetype": "text/x-python",
   "name": "python",
   "nbconvert_exporter": "python",
   "pygments_lexer": "ipython3",
   "version": "3.8.3"
  }
 },
 "nbformat": 4,
 "nbformat_minor": 4
}
